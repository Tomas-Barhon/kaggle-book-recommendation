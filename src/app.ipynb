{
 "cells": [
  {
   "cell_type": "code",
   "execution_count": 6,
   "metadata": {},
   "outputs": [],
   "source": [
    "from ipywidgets import widgets\n",
    "from IPython.display import display\n",
    "from Levenshtein import distance\n",
    "import pandas as pd\n",
    "from sklearn.feature_extraction.text import TfidfVectorizer\n",
    "from sklearn.metrics.pairwise import cosine_similarity\n",
    "from pipeline import Pipeline"
   ]
  },
  {
   "cell_type": "code",
   "execution_count": 2,
   "metadata": {},
   "outputs": [],
   "source": [
    "input_text = widgets.Text(placeholder=\"Enter your favourite book\")\n",
    "output_text = widgets.Output()"
   ]
  },
  {
   "cell_type": "code",
   "execution_count": 3,
   "metadata": {},
   "outputs": [],
   "source": [
    "def get_most_similar_title(title, books):\n",
    "    global tfidf_vectorizer, tfidf_matrix\n",
    "    books = books.copy()\n",
    "    vectorized_input = tfidf_vectorizer.transform([title])\n",
    "    similarities = cosine_similarity(tfidf_matrix, vectorized_input)\n",
    "    row_index = similarities.argmax()\n",
    "    row_with_min_distance = books.loc[row_index]\n",
    "    return row_with_min_distance.bookTitle"
   ]
  },
  {
   "cell_type": "code",
   "execution_count": 4,
   "metadata": {},
   "outputs": [
    {
     "name": "stderr",
     "output_type": "stream",
     "text": [
      "/tmp/ipykernel_10438/3911847889.py:14: DtypeWarning: Columns (3) have mixed types. Specify dtype option on import or set low_memory=False.\n",
      "  books_with_urls = pd.read_csv(\"./../data/Books.csv\")\n",
      "/home/tomas_barhon/Code/book_recommendation_kaggle/book_recommendation/lib/python3.11/site-packages/sklearn/feature_extraction/text.py:547: UserWarning: The parameter 'stop_words' will not be used since 'analyzer' != 'word'\n",
      "  warnings.warn(\n",
      "/tmp/ipykernel_10438/3911847889.py:18: DeprecationWarning: on_submit is deprecated. Instead, set the .continuous_update attribute to False and observe the value changing with: mywidget.observe(callback, 'value').\n",
      "  input_text.on_submit(on_click)\n"
     ]
    },
    {
     "data": {
      "application/vnd.jupyter.widget-view+json": {
       "model_id": "1c94e809ddee4118b1940e88ae83edbb",
       "version_major": 2,
       "version_minor": 0
      },
      "text/plain": [
       "Text(value='', placeholder='Enter your favourite book')"
      ]
     },
     "metadata": {},
     "output_type": "display_data"
    },
    {
     "data": {
      "application/vnd.jupyter.widget-view+json": {
       "model_id": "e55eca0eda114e9a9658914ab8917a1c",
       "version_major": 2,
       "version_minor": 0
      },
      "text/plain": [
       "Output()"
      ]
     },
     "metadata": {},
     "output_type": "display_data"
    }
   ],
   "source": [
    "\n",
    "def on_click(sender):\n",
    "    output_text.clear_output()\n",
    "    global books\n",
    "    with output_text:\n",
    "        print(\"Most similar book in the archive:\")\n",
    "        matched_title = get_most_similar_title(input_text.value, books)\n",
    "        print(matched_title)\n",
    "        print(\"Top 5 similar books:\")\n",
    "        similar_books = Pipeline.get_item_item_similar()\n",
    "        for book in similar_books:\n",
    "            print(\"-\", book)\n",
    "#load preprocessed data\n",
    "books = pd.read_csv(\"./../data/books_filtered.csv\")\n",
    "books_with_urls = pd.read_csv(\"./../data/Books.csv\")\n",
    "combined_data = pd.read_csv(\"./../data/merged_data.csv\")\n",
    "\n",
    "tfidf_vectorizer = TfidfVectorizer(stop_words = \"english\", ngram_range = (1,5),analyzer = \"char_wb\")\n",
    "tfidf_matrix = tfidf_vectorizer.fit_transform(books.bookTitle)\n",
    "books = books.merge(books_with_urls[[\"ISBN\",\"Image-URL-S\"]],on=\"ISBN\")\n",
    "input_text.on_submit(on_click)\n",
    "display(input_text)\n",
    "display(output_text)"
   ]
  },
  {
   "cell_type": "code",
   "execution_count": null,
   "metadata": {},
   "outputs": [],
   "source": []
  }
 ],
 "metadata": {
  "kernelspec": {
   "display_name": "Book recommendation venv",
   "language": "python",
   "name": "book_recommendation"
  },
  "language_info": {
   "codemirror_mode": {
    "name": "ipython",
    "version": 3
   },
   "file_extension": ".py",
   "mimetype": "text/x-python",
   "name": "python",
   "nbconvert_exporter": "python",
   "pygments_lexer": "ipython3",
   "version": "3.11.4"
  }
 },
 "nbformat": 4,
 "nbformat_minor": 2
}
