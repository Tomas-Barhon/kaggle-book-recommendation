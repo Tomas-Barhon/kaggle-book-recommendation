{
 "cells": [
  {
   "cell_type": "code",
   "execution_count": 1,
   "metadata": {},
   "outputs": [],
   "source": [
    "from ipywidgets import widgets\n",
    "from IPython.display import display\n",
    "from Levenshtein import distance\n",
    "import pandas as pd\n",
    "from sklearn.feature_extraction.text import TfidfVectorizer\n",
    "from sklearn.metrics.pairwise import cosine_similarity\n",
    "from pipeline import Pipeline\n",
    "import requests\n",
    "from PIL import Image\n",
    "from io import BytesIO"
   ]
  },
  {
   "cell_type": "code",
   "execution_count": 2,
   "metadata": {},
   "outputs": [],
   "source": [
    "input_text = widgets.Text(placeholder=\"Enter your favourite book\")\n",
    "output_text = widgets.Output()"
   ]
  },
  {
   "cell_type": "code",
   "execution_count": 3,
   "metadata": {},
   "outputs": [],
   "source": [
    "def get_most_similar_title(title, books):\n",
    "    global tfidf_vectorizer, tfidf_matrix, combined_data, mapping\n",
    "    vectorized_input = tfidf_vectorizer.transform([title])\n",
    "    similarities = cosine_similarity(tfidf_matrix, vectorized_input)\n",
    "    row_index = similarities.argmax()\n",
    "    closest_string = list(mapping.keys())[row_index]\n",
    "    return closest_string"
   ]
  },
  {
   "cell_type": "code",
   "execution_count": 4,
   "metadata": {},
   "outputs": [
    {
     "name": "stderr",
     "output_type": "stream",
     "text": [
      "/tmp/ipykernel_30783/2837832672.py:22: DtypeWarning: Columns (3) have mixed types. Specify dtype option on import or set low_memory=False.\n",
      "  books_with_urls = pd.read_csv(\"./../data/Books.csv\")\n",
      "/home/tomas_barhon/Code/book_recommendation_kaggle/book_recommendation/lib/python3.11/site-packages/sklearn/feature_extraction/text.py:547: UserWarning: The parameter 'stop_words' will not be used since 'analyzer' != 'word'\n",
      "  warnings.warn(\n",
      "/tmp/ipykernel_30783/2837832672.py:28: DeprecationWarning: on_submit is deprecated. Instead, set the .continuous_update attribute to False and observe the value changing with: mywidget.observe(callback, 'value').\n",
      "  input_text.on_submit(on_click)\n"
     ]
    },
    {
     "data": {
      "application/vnd.jupyter.widget-view+json": {
       "model_id": "915d91fac5d244c687df7654538b31d7",
       "version_major": 2,
       "version_minor": 0
      },
      "text/plain": [
       "Text(value='', placeholder='Enter your favourite book')"
      ]
     },
     "metadata": {},
     "output_type": "display_data"
    },
    {
     "data": {
      "application/vnd.jupyter.widget-view+json": {
       "model_id": "3fb6ce4985dc418e9fed83ea4551bf7d",
       "version_major": 2,
       "version_minor": 0
      },
      "text/plain": [
       "Output()"
      ]
     },
     "metadata": {},
     "output_type": "display_data"
    }
   ],
   "source": [
    "\n",
    "def on_click(sender):\n",
    "    output_text.clear_output()\n",
    "    global books\n",
    "    global mapping\n",
    "    with output_text:\n",
    "        print(\"Most similar book in the archive:\")\n",
    "        matched_title = get_most_similar_title(str(input_text.value), books)\n",
    "        print(matched_title)\n",
    "        print(\"Top 5 similar books:\")\n",
    "        similar_books = mapping.get(matched_title)\n",
    "        headers = {\"User-Agent\":\"Mozilla/5.0 (Windows NT 10.0; Win64; x64) AppleWebKit/537.36 (KHTML, like Gecko) Chrome/121.0.0.0 Safari/537.36\"}\n",
    "        for book in similar_books:\n",
    "            r = requests.get(books.loc[books.bookTitle == book,\"Image-URL-M\"].iloc[0], headers=headers)\n",
    "            if r.status_code == 200:\n",
    "                image_bytes = BytesIO(r.content)\n",
    "                img = Image.open(image_bytes)\n",
    "            print(\"-\", book)\n",
    "            display(img)\n",
    "\n",
    "#load preprocessed data\n",
    "books = pd.read_csv(\"./../data/books_filtered.csv\")\n",
    "books_with_urls = pd.read_csv(\"./../data/Books.csv\")\n",
    "combined_data = pd.read_csv(\"./../data/merged_data.csv\")\n",
    "mapping = Pipeline.get_item_item_similar_mapping()\n",
    "tfidf_vectorizer = TfidfVectorizer(stop_words = \"english\", ngram_range = (1,5),analyzer = \"char_wb\")\n",
    "tfidf_matrix = tfidf_vectorizer.fit_transform(list(mapping.keys()))\n",
    "books = books.merge(books_with_urls[[\"ISBN\",\"Image-URL-M\"]],on=\"ISBN\")\n",
    "input_text.on_submit(on_click)\n",
    "display(input_text)\n",
    "display(output_text)"
   ]
  }
 ],
 "metadata": {
  "kernelspec": {
   "display_name": "Book recommendation venv",
   "language": "python",
   "name": "book_recommendation"
  },
  "language_info": {
   "codemirror_mode": {
    "name": "ipython",
    "version": 3
   },
   "file_extension": ".py",
   "mimetype": "text/x-python",
   "name": "python",
   "nbconvert_exporter": "python",
   "pygments_lexer": "ipython3",
   "version": "3.11.4"
  }
 },
 "nbformat": 4,
 "nbformat_minor": 2
}
