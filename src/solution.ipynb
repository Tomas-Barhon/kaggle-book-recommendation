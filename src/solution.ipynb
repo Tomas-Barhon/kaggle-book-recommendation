{
 "cells": [
  {
   "cell_type": "code",
   "execution_count": 1,
   "metadata": {},
   "outputs": [
    {
     "name": "stderr",
     "output_type": "stream",
     "text": [
      "/tmp/ipykernel_18231/3996303815.py:4: DeprecationWarning: \n",
      "Pyarrow will become a required dependency of pandas in the next major release of pandas (pandas 3.0),\n",
      "(to allow more performant data types, such as the Arrow string type, and better interoperability with other libraries)\n",
      "but was not found to be installed on your system.\n",
      "If this would cause problems for you,\n",
      "please provide us feedback at https://github.com/pandas-dev/pandas/issues/54466\n",
      "        \n",
      "  import pandas as pd\n"
     ]
    }
   ],
   "source": [
    "import zipfile\n",
    "import os\n",
    "import numpy as np \n",
    "import pandas as pd\n",
    "import matplotlib.pyplot as plt\n",
    "pd.set_option(\"display.max_colwidth\", None)\n",
    "from pipeline import Pipeline\n",
    "import scipy\n",
    "from sklearn.metrics.pairwise import cosine_similarity\n",
    "from sklearn.neighbors import NearestNeighbors"
   ]
  },
  {
   "cell_type": "code",
   "execution_count": 2,
   "metadata": {},
   "outputs": [],
   "source": [
    "#extracting the zip file\n",
    "with zipfile.ZipFile(\"./../data/books_data.zip\", \"r\") as zip_ref:\n",
    "    zip_ref.extractall(\"./../data/\")"
   ]
  },
  {
   "cell_type": "code",
   "execution_count": 3,
   "metadata": {},
   "outputs": [
    {
     "name": "stdout",
     "output_type": "stream",
     "text": [
      "(1149780, 3)\n",
      "(271360, 5)\n",
      "(278858, 3)\n",
      "User matrix size:  75670906880\n",
      "Matrix sparsity:  1.5194478927328536e-05  %\n"
     ]
    },
    {
     "name": "stderr",
     "output_type": "stream",
     "text": [
      "/tmp/ipykernel_130693/3439591534.py:3: DtypeWarning: Columns (3) have mixed types. Specify dtype option on import or set low_memory=False.\n",
      "  books_data = pd.read_csv(\"./../data/Books.csv\")\n"
     ]
    }
   ],
   "source": [
    "#loading data\n",
    "ratings_data = pd.read_csv(\"./../data/Ratings.csv\")\n",
    "books_data = pd.read_csv(\"./../data/Books.csv\")\n",
    "users_data = pd.read_csv(\"./../data/Users.csv\")\n",
    "#rename column to enable .column\n",
    "ratings_data, books_data, users_data = Pipeline.rename_columns(ratings_data, \n",
    "                                            books_data, users_data)\n",
    "#drop img urls\n",
    "books_data = Pipeline.remove_img_urls(books_data)\n",
    "print(ratings_data.shape)\n",
    "print(books_data.shape)\n",
    "print(users_data.shape)\n",
    "user_item_matrix_size = books_data.shape[0]*users_data.shape[0]\n",
    "print(\"User matrix size: \",user_item_matrix_size)\n",
    "print(\"Matrix sparsity: \", ratings_data.shape[0]/user_item_matrix_size,\" %\")"
   ]
  },
  {
   "cell_type": "markdown",
   "metadata": {},
   "source": [
    "# Ratings dataset cleaning/exploration"
   ]
  },
  {
   "cell_type": "code",
   "execution_count": 4,
   "metadata": {},
   "outputs": [
    {
     "data": {
      "text/html": [
       "<div>\n",
       "<style scoped>\n",
       "    .dataframe tbody tr th:only-of-type {\n",
       "        vertical-align: middle;\n",
       "    }\n",
       "\n",
       "    .dataframe tbody tr th {\n",
       "        vertical-align: top;\n",
       "    }\n",
       "\n",
       "    .dataframe thead th {\n",
       "        text-align: right;\n",
       "    }\n",
       "</style>\n",
       "<table border=\"1\" class=\"dataframe\">\n",
       "  <thead>\n",
       "    <tr style=\"text-align: right;\">\n",
       "      <th></th>\n",
       "      <th>userID</th>\n",
       "      <th>bookRating</th>\n",
       "    </tr>\n",
       "  </thead>\n",
       "  <tbody>\n",
       "    <tr>\n",
       "      <th>count</th>\n",
       "      <td>1.149780e+06</td>\n",
       "      <td>1.149780e+06</td>\n",
       "    </tr>\n",
       "    <tr>\n",
       "      <th>mean</th>\n",
       "      <td>1.403864e+05</td>\n",
       "      <td>2.866950e+00</td>\n",
       "    </tr>\n",
       "    <tr>\n",
       "      <th>std</th>\n",
       "      <td>8.056228e+04</td>\n",
       "      <td>3.854184e+00</td>\n",
       "    </tr>\n",
       "    <tr>\n",
       "      <th>min</th>\n",
       "      <td>2.000000e+00</td>\n",
       "      <td>0.000000e+00</td>\n",
       "    </tr>\n",
       "    <tr>\n",
       "      <th>25%</th>\n",
       "      <td>7.034500e+04</td>\n",
       "      <td>0.000000e+00</td>\n",
       "    </tr>\n",
       "    <tr>\n",
       "      <th>50%</th>\n",
       "      <td>1.410100e+05</td>\n",
       "      <td>0.000000e+00</td>\n",
       "    </tr>\n",
       "    <tr>\n",
       "      <th>75%</th>\n",
       "      <td>2.110280e+05</td>\n",
       "      <td>7.000000e+00</td>\n",
       "    </tr>\n",
       "    <tr>\n",
       "      <th>max</th>\n",
       "      <td>2.788540e+05</td>\n",
       "      <td>1.000000e+01</td>\n",
       "    </tr>\n",
       "  </tbody>\n",
       "</table>\n",
       "</div>"
      ],
      "text/plain": [
       "             userID    bookRating\n",
       "count  1.149780e+06  1.149780e+06\n",
       "mean   1.403864e+05  2.866950e+00\n",
       "std    8.056228e+04  3.854184e+00\n",
       "min    2.000000e+00  0.000000e+00\n",
       "25%    7.034500e+04  0.000000e+00\n",
       "50%    1.410100e+05  0.000000e+00\n",
       "75%    2.110280e+05  7.000000e+00\n",
       "max    2.788540e+05  1.000000e+01"
      ]
     },
     "execution_count": 4,
     "metadata": {},
     "output_type": "execute_result"
    }
   ],
   "source": [
    "ratings_data.describe()"
   ]
  },
  {
   "cell_type": "code",
   "execution_count": 5,
   "metadata": {},
   "outputs": [
    {
     "name": "stdout",
     "output_type": "stream",
     "text": [
      "<class 'pandas.core.frame.DataFrame'>\n",
      "RangeIndex: 1149780 entries, 0 to 1149779\n",
      "Data columns (total 3 columns):\n",
      " #   Column      Non-Null Count    Dtype \n",
      "---  ------      --------------    ----- \n",
      " 0   userID      1149780 non-null  int64 \n",
      " 1   ISBN        1149780 non-null  object\n",
      " 2   bookRating  1149780 non-null  int64 \n",
      "dtypes: int64(2), object(1)\n",
      "memory usage: 26.3+ MB\n"
     ]
    }
   ],
   "source": [
    "ratings_data.info()"
   ]
  },
  {
   "cell_type": "code",
   "execution_count": 6,
   "metadata": {},
   "outputs": [
    {
     "data": {
      "text/html": [
       "<div>\n",
       "<style scoped>\n",
       "    .dataframe tbody tr th:only-of-type {\n",
       "        vertical-align: middle;\n",
       "    }\n",
       "\n",
       "    .dataframe tbody tr th {\n",
       "        vertical-align: top;\n",
       "    }\n",
       "\n",
       "    .dataframe thead th {\n",
       "        text-align: right;\n",
       "    }\n",
       "</style>\n",
       "<table border=\"1\" class=\"dataframe\">\n",
       "  <thead>\n",
       "    <tr style=\"text-align: right;\">\n",
       "      <th></th>\n",
       "      <th>userID</th>\n",
       "      <th>ISBN</th>\n",
       "      <th>bookRating</th>\n",
       "    </tr>\n",
       "  </thead>\n",
       "  <tbody>\n",
       "    <tr>\n",
       "      <th>0</th>\n",
       "      <td>276725</td>\n",
       "      <td>034545104X</td>\n",
       "      <td>0</td>\n",
       "    </tr>\n",
       "    <tr>\n",
       "      <th>1</th>\n",
       "      <td>276726</td>\n",
       "      <td>0155061224</td>\n",
       "      <td>5</td>\n",
       "    </tr>\n",
       "    <tr>\n",
       "      <th>2</th>\n",
       "      <td>276727</td>\n",
       "      <td>0446520802</td>\n",
       "      <td>0</td>\n",
       "    </tr>\n",
       "    <tr>\n",
       "      <th>3</th>\n",
       "      <td>276729</td>\n",
       "      <td>052165615X</td>\n",
       "      <td>3</td>\n",
       "    </tr>\n",
       "    <tr>\n",
       "      <th>4</th>\n",
       "      <td>276729</td>\n",
       "      <td>0521795028</td>\n",
       "      <td>6</td>\n",
       "    </tr>\n",
       "    <tr>\n",
       "      <th>5</th>\n",
       "      <td>276733</td>\n",
       "      <td>2080674722</td>\n",
       "      <td>0</td>\n",
       "    </tr>\n",
       "    <tr>\n",
       "      <th>6</th>\n",
       "      <td>276736</td>\n",
       "      <td>3257224281</td>\n",
       "      <td>8</td>\n",
       "    </tr>\n",
       "    <tr>\n",
       "      <th>7</th>\n",
       "      <td>276737</td>\n",
       "      <td>0600570967</td>\n",
       "      <td>6</td>\n",
       "    </tr>\n",
       "    <tr>\n",
       "      <th>8</th>\n",
       "      <td>276744</td>\n",
       "      <td>038550120X</td>\n",
       "      <td>7</td>\n",
       "    </tr>\n",
       "    <tr>\n",
       "      <th>9</th>\n",
       "      <td>276745</td>\n",
       "      <td>342310538</td>\n",
       "      <td>10</td>\n",
       "    </tr>\n",
       "  </tbody>\n",
       "</table>\n",
       "</div>"
      ],
      "text/plain": [
       "   userID        ISBN  bookRating\n",
       "0  276725  034545104X           0\n",
       "1  276726  0155061224           5\n",
       "2  276727  0446520802           0\n",
       "3  276729  052165615X           3\n",
       "4  276729  0521795028           6\n",
       "5  276733  2080674722           0\n",
       "6  276736  3257224281           8\n",
       "7  276737  0600570967           6\n",
       "8  276744  038550120X           7\n",
       "9  276745   342310538          10"
      ]
     },
     "execution_count": 6,
     "metadata": {},
     "output_type": "execute_result"
    }
   ],
   "source": [
    "ratings_data.head(10)\n"
   ]
  },
  {
   "cell_type": "code",
   "execution_count": 7,
   "metadata": {},
   "outputs": [
    {
     "data": {
      "text/plain": [
       "userID        0\n",
       "ISBN          0\n",
       "bookRating    0\n",
       "dtype: int64"
      ]
     },
     "execution_count": 7,
     "metadata": {},
     "output_type": "execute_result"
    }
   ],
   "source": [
    "ratings_data.isna().sum()"
   ]
  },
  {
   "cell_type": "code",
   "execution_count": 8,
   "metadata": {},
   "outputs": [
    {
     "data": {
      "text/plain": [
       "<Axes: >"
      ]
     },
     "execution_count": 8,
     "metadata": {},
     "output_type": "execute_result"
    },
    {
     "data": {
      "image/png": "[encoded data removed]",
      "text/plain": [
       "<Figure size 640x480 with 1 Axes>"
      ]
     },
     "metadata": {},
     "output_type": "display_data"
    }
   ],
   "source": [
    "ratings_data.bookRating.hist()"
   ]
  },
  {
   "cell_type": "code",
   "execution_count": 9,
   "metadata": {},
   "outputs": [
    {
     "name": "stdout",
     "output_type": "stream",
     "text": [
      "Number of implicit feedbacks:  716109  ~  0.62 %\n",
      "Number of explicit feedbacks:  433671  ~  0.38 %\n"
     ]
    }
   ],
   "source": [
    "implicit_count = len(ratings_data.loc[ratings_data.bookRating == 0])\n",
    "explicit_count = len(ratings_data.loc[ratings_data.bookRating != 0])\n",
    "print(\"Number of implicit feedbacks: \",implicit_count, \" ~ \", \n",
    "    round(implicit_count/len(ratings_data),2),\"%\")\n",
    "print(\"Number of explicit feedbacks: \", explicit_count, \" ~ \",\n",
    "    round(explicit_count/len(ratings_data),2),\"%\")"
   ]
  },
  {
   "cell_type": "markdown",
   "metadata": {},
   "source": [
    "# Books dataset cleaning/exploration"
   ]
  },
  {
   "cell_type": "code",
   "execution_count": 10,
   "metadata": {},
   "outputs": [
    {
     "data": {
      "text/html": [
       "<div>\n",
       "<style scoped>\n",
       "    .dataframe tbody tr th:only-of-type {\n",
       "        vertical-align: middle;\n",
       "    }\n",
       "\n",
       "    .dataframe tbody tr th {\n",
       "        vertical-align: top;\n",
       "    }\n",
       "\n",
       "    .dataframe thead th {\n",
       "        text-align: right;\n",
       "    }\n",
       "</style>\n",
       "<table border=\"1\" class=\"dataframe\">\n",
       "  <thead>\n",
       "    <tr style=\"text-align: right;\">\n",
       "      <th></th>\n",
       "      <th>ISBN</th>\n",
       "      <th>bookTitle</th>\n",
       "      <th>bookAuthor</th>\n",
       "      <th>yearOfPublication</th>\n",
       "      <th>publisher</th>\n",
       "    </tr>\n",
       "  </thead>\n",
       "  <tbody>\n",
       "    <tr>\n",
       "      <th>0</th>\n",
       "      <td>0195153448</td>\n",
       "      <td>Classical Mythology</td>\n",
       "      <td>Mark P. O. Morford</td>\n",
       "      <td>2002</td>\n",
       "      <td>Oxford University Press</td>\n",
       "    </tr>\n",
       "    <tr>\n",
       "      <th>1</th>\n",
       "      <td>0002005018</td>\n",
       "      <td>Clara Callan</td>\n",
       "      <td>Richard Bruce Wright</td>\n",
       "      <td>2001</td>\n",
       "      <td>HarperFlamingo Canada</td>\n",
       "    </tr>\n",
       "    <tr>\n",
       "      <th>2</th>\n",
       "      <td>0060973129</td>\n",
       "      <td>Decision in Normandy</td>\n",
       "      <td>Carlo D'Este</td>\n",
       "      <td>1991</td>\n",
       "      <td>HarperPerennial</td>\n",
       "    </tr>\n",
       "    <tr>\n",
       "      <th>3</th>\n",
       "      <td>0374157065</td>\n",
       "      <td>Flu: The Story of the Great Influenza Pandemic of 1918 and the Search for the Virus That Caused It</td>\n",
       "      <td>Gina Bari Kolata</td>\n",
       "      <td>1999</td>\n",
       "      <td>Farrar Straus Giroux</td>\n",
       "    </tr>\n",
       "    <tr>\n",
       "      <th>4</th>\n",
       "      <td>0393045218</td>\n",
       "      <td>The Mummies of Urumchi</td>\n",
       "      <td>E. J. W. Barber</td>\n",
       "      <td>1999</td>\n",
       "      <td>W. W. Norton &amp;amp; Company</td>\n",
       "    </tr>\n",
       "    <tr>\n",
       "      <th>5</th>\n",
       "      <td>0399135782</td>\n",
       "      <td>The Kitchen God's Wife</td>\n",
       "      <td>Amy Tan</td>\n",
       "      <td>1991</td>\n",
       "      <td>Putnam Pub Group</td>\n",
       "    </tr>\n",
       "    <tr>\n",
       "      <th>6</th>\n",
       "      <td>0425176428</td>\n",
       "      <td>What If?: The World's Foremost Military Historians Imagine What Might Have Been</td>\n",
       "      <td>Robert Cowley</td>\n",
       "      <td>2000</td>\n",
       "      <td>Berkley Publishing Group</td>\n",
       "    </tr>\n",
       "    <tr>\n",
       "      <th>7</th>\n",
       "      <td>0671870432</td>\n",
       "      <td>PLEADING GUILTY</td>\n",
       "      <td>Scott Turow</td>\n",
       "      <td>1993</td>\n",
       "      <td>Audioworks</td>\n",
       "    </tr>\n",
       "    <tr>\n",
       "      <th>8</th>\n",
       "      <td>0679425608</td>\n",
       "      <td>Under the Black Flag: The Romance and the Reality of Life Among the Pirates</td>\n",
       "      <td>David Cordingly</td>\n",
       "      <td>1996</td>\n",
       "      <td>Random House</td>\n",
       "    </tr>\n",
       "    <tr>\n",
       "      <th>9</th>\n",
       "      <td>074322678X</td>\n",
       "      <td>Where You'll Find Me: And Other Stories</td>\n",
       "      <td>Ann Beattie</td>\n",
       "      <td>2002</td>\n",
       "      <td>Scribner</td>\n",
       "    </tr>\n",
       "  </tbody>\n",
       "</table>\n",
       "</div>"
      ],
      "text/plain": [
       "         ISBN  \\\n",
       "0  0195153448   \n",
       "1  0002005018   \n",
       "2  0060973129   \n",
       "3  0374157065   \n",
       "4  0393045218   \n",
       "5  0399135782   \n",
       "6  0425176428   \n",
       "7  0671870432   \n",
       "8  0679425608   \n",
       "9  074322678X   \n",
       "\n",
       "                                                                                            bookTitle  \\\n",
       "0                                                                                 Classical Mythology   \n",
       "1                                                                                        Clara Callan   \n",
       "2                                                                                Decision in Normandy   \n",
       "3  Flu: The Story of the Great Influenza Pandemic of 1918 and the Search for the Virus That Caused It   \n",
       "4                                                                              The Mummies of Urumchi   \n",
       "5                                                                              The Kitchen God's Wife   \n",
       "6                     What If?: The World's Foremost Military Historians Imagine What Might Have Been   \n",
       "7                                                                                     PLEADING GUILTY   \n",
       "8                         Under the Black Flag: The Romance and the Reality of Life Among the Pirates   \n",
       "9                                                             Where You'll Find Me: And Other Stories   \n",
       "\n",
       "             bookAuthor yearOfPublication                   publisher  \n",
       "0    Mark P. O. Morford              2002     Oxford University Press  \n",
       "1  Richard Bruce Wright              2001       HarperFlamingo Canada  \n",
       "2          Carlo D'Este              1991             HarperPerennial  \n",
       "3      Gina Bari Kolata              1999        Farrar Straus Giroux  \n",
       "4       E. J. W. Barber              1999  W. W. Norton &amp; Company  \n",
       "5               Amy Tan              1991            Putnam Pub Group  \n",
       "6         Robert Cowley              2000    Berkley Publishing Group  \n",
       "7           Scott Turow              1993                  Audioworks  \n",
       "8       David Cordingly              1996                Random House  \n",
       "9           Ann Beattie              2002                    Scribner  "
      ]
     },
     "execution_count": 10,
     "metadata": {},
     "output_type": "execute_result"
    }
   ],
   "source": [
    "#we do not have much info about the books such as genres\n",
    "books_data.head(10)"
   ]
  },
  {
   "cell_type": "code",
   "execution_count": 11,
   "metadata": {},
   "outputs": [
    {
     "name": "stdout",
     "output_type": "stream",
     "text": [
      "<class 'pandas.core.frame.DataFrame'>\n",
      "RangeIndex: 271360 entries, 0 to 271359\n",
      "Data columns (total 5 columns):\n",
      " #   Column             Non-Null Count   Dtype \n",
      "---  ------             --------------   ----- \n",
      " 0   ISBN               271360 non-null  object\n",
      " 1   bookTitle          271360 non-null  object\n",
      " 2   bookAuthor         271358 non-null  object\n",
      " 3   yearOfPublication  271360 non-null  object\n",
      " 4   publisher          271358 non-null  object\n",
      "dtypes: object(5)\n",
      "memory usage: 10.4+ MB\n"
     ]
    }
   ],
   "source": [
    "#We have to fix dtypes\n",
    "books_data.info()"
   ]
  },
  {
   "cell_type": "code",
   "execution_count": 12,
   "metadata": {},
   "outputs": [],
   "source": [
    "#books_data.yearOfPublication = pd.to_numeric(books_data.yearOfPublication)\n",
    "# => returns Unable to parse string \"DK Publishing Inc\" at position 209538"
   ]
  },
  {
   "cell_type": "code",
   "execution_count": 13,
   "metadata": {},
   "outputs": [],
   "source": [
    "def is_non_integer(value):\n",
    "    return not isinstance(value, int)"
   ]
  },
  {
   "cell_type": "code",
   "execution_count": 14,
   "metadata": {},
   "outputs": [],
   "source": [
    "non_integer_values = books_data.yearOfPublication.apply(is_non_integer)\n",
    "\n",
    "# Filter the DataFrame based on non-integer values\n",
    "non_integer_df = books_data[non_integer_values]"
   ]
  },
  {
   "cell_type": "code",
   "execution_count": 15,
   "metadata": {},
   "outputs": [
    {
     "data": {
      "text/html": [
       "<div>\n",
       "<style scoped>\n",
       "    .dataframe tbody tr th:only-of-type {\n",
       "        vertical-align: middle;\n",
       "    }\n",
       "\n",
       "    .dataframe tbody tr th {\n",
       "        vertical-align: top;\n",
       "    }\n",
       "\n",
       "    .dataframe thead th {\n",
       "        text-align: right;\n",
       "    }\n",
       "</style>\n",
       "<table border=\"1\" class=\"dataframe\">\n",
       "  <thead>\n",
       "    <tr style=\"text-align: right;\">\n",
       "      <th></th>\n",
       "      <th>ISBN</th>\n",
       "      <th>bookTitle</th>\n",
       "      <th>bookAuthor</th>\n",
       "      <th>yearOfPublication</th>\n",
       "      <th>publisher</th>\n",
       "    </tr>\n",
       "  </thead>\n",
       "  <tbody>\n",
       "    <tr>\n",
       "      <th>196608</th>\n",
       "      <td>0425176967</td>\n",
       "      <td>Self-Portrait With Ghosts</td>\n",
       "      <td>Kelly Dwyer</td>\n",
       "      <td>2000</td>\n",
       "      <td>Berkley Publishing Group</td>\n",
       "    </tr>\n",
       "    <tr>\n",
       "      <th>196609</th>\n",
       "      <td>0373239971</td>\n",
       "      <td>Baby'S First Christmas (The Baby Of The Month Club) (Silhouette Special Edition No, 997)</td>\n",
       "      <td>Marie Ferrarella</td>\n",
       "      <td>1995</td>\n",
       "      <td>Silhouette</td>\n",
       "    </tr>\n",
       "    <tr>\n",
       "      <th>196610</th>\n",
       "      <td>0373201613</td>\n",
       "      <td>Man She Married (By Request) (By Request)</td>\n",
       "      <td>Ann Major</td>\n",
       "      <td>1999</td>\n",
       "      <td>Harlequin</td>\n",
       "    </tr>\n",
       "    <tr>\n",
       "      <th>196611</th>\n",
       "      <td>159071024X</td>\n",
       "      <td>The Gilded Chamber</td>\n",
       "      <td>Rebecca Kohn</td>\n",
       "      <td>2004</td>\n",
       "      <td>Rugged Land</td>\n",
       "    </tr>\n",
       "    <tr>\n",
       "      <th>196612</th>\n",
       "      <td>0066210747</td>\n",
       "      <td>The Bielski Brothers: The True Story of Three Men Who Defied the Nazis, Saved 1,200 Jews and Built a Village in the Forest</td>\n",
       "      <td>Peter Duffy</td>\n",
       "      <td>2003</td>\n",
       "      <td>HarperCollins</td>\n",
       "    </tr>\n",
       "    <tr>\n",
       "      <th>...</th>\n",
       "      <td>...</td>\n",
       "      <td>...</td>\n",
       "      <td>...</td>\n",
       "      <td>...</td>\n",
       "      <td>...</td>\n",
       "    </tr>\n",
       "    <tr>\n",
       "      <th>262139</th>\n",
       "      <td>0897332032</td>\n",
       "      <td>The Age of Agony: The Art of Healing, 1700-1800</td>\n",
       "      <td>Guy R. Williams</td>\n",
       "      <td>1986</td>\n",
       "      <td>Academy Chicago Publishers</td>\n",
       "    </tr>\n",
       "    <tr>\n",
       "      <th>262140</th>\n",
       "      <td>0897332857</td>\n",
       "      <td>The Age of Miracles</td>\n",
       "      <td>Guy Williams</td>\n",
       "      <td>1987</td>\n",
       "      <td>Academy Chicago Publishers</td>\n",
       "    </tr>\n",
       "    <tr>\n",
       "      <th>262141</th>\n",
       "      <td>0897333918</td>\n",
       "      <td>The Common Stream: Two Thousand Years of the English Village</td>\n",
       "      <td>Rowland Parker</td>\n",
       "      <td>1994</td>\n",
       "      <td>Academy Chicago Publishers</td>\n",
       "    </tr>\n",
       "    <tr>\n",
       "      <th>262142</th>\n",
       "      <td>0906540631</td>\n",
       "      <td>The Essene Odyssey: The Mystery of the True Teacher and the Essene Impact on the Shaping of Human Destiny</td>\n",
       "      <td>Hugh J. Schonfield</td>\n",
       "      <td>1993</td>\n",
       "      <td>Element Books</td>\n",
       "    </tr>\n",
       "    <tr>\n",
       "      <th>262143</th>\n",
       "      <td>0906540798</td>\n",
       "      <td>The Pentecost Revolution: The Story of the Jesus Party in Israel Ad 36-66</td>\n",
       "      <td>Hugh J. Schonfield</td>\n",
       "      <td>1991</td>\n",
       "      <td>Element Books</td>\n",
       "    </tr>\n",
       "  </tbody>\n",
       "</table>\n",
       "<p>65536 rows × 5 columns</p>\n",
       "</div>"
      ],
      "text/plain": [
       "              ISBN  \\\n",
       "196608  0425176967   \n",
       "196609  0373239971   \n",
       "196610  0373201613   \n",
       "196611  159071024X   \n",
       "196612  0066210747   \n",
       "...            ...   \n",
       "262139  0897332032   \n",
       "262140  0897332857   \n",
       "262141  0897333918   \n",
       "262142  0906540631   \n",
       "262143  0906540798   \n",
       "\n",
       "                                                                                                                         bookTitle  \\\n",
       "196608                                                                                                   Self-Portrait With Ghosts   \n",
       "196609                                    Baby'S First Christmas (The Baby Of The Month Club) (Silhouette Special Edition No, 997)   \n",
       "196610                                                                                   Man She Married (By Request) (By Request)   \n",
       "196611                                                                                                          The Gilded Chamber   \n",
       "196612  The Bielski Brothers: The True Story of Three Men Who Defied the Nazis, Saved 1,200 Jews and Built a Village in the Forest   \n",
       "...                                                                                                                            ...   \n",
       "262139                                                                             The Age of Agony: The Art of Healing, 1700-1800   \n",
       "262140                                                                                                         The Age of Miracles   \n",
       "262141                                                                The Common Stream: Two Thousand Years of the English Village   \n",
       "262142                   The Essene Odyssey: The Mystery of the True Teacher and the Essene Impact on the Shaping of Human Destiny   \n",
       "262143                                                   The Pentecost Revolution: The Story of the Jesus Party in Israel Ad 36-66   \n",
       "\n",
       "                bookAuthor yearOfPublication                   publisher  \n",
       "196608         Kelly Dwyer              2000    Berkley Publishing Group  \n",
       "196609    Marie Ferrarella              1995                  Silhouette  \n",
       "196610           Ann Major              1999                   Harlequin  \n",
       "196611        Rebecca Kohn              2004                 Rugged Land  \n",
       "196612         Peter Duffy              2003               HarperCollins  \n",
       "...                    ...               ...                         ...  \n",
       "262139     Guy R. Williams              1986  Academy Chicago Publishers  \n",
       "262140        Guy Williams              1987  Academy Chicago Publishers  \n",
       "262141      Rowland Parker              1994  Academy Chicago Publishers  \n",
       "262142  Hugh J. Schonfield              1993               Element Books  \n",
       "262143  Hugh J. Schonfield              1991               Element Books  \n",
       "\n",
       "[65536 rows x 5 columns]"
      ]
     },
     "execution_count": 15,
     "metadata": {},
     "output_type": "execute_result"
    }
   ],
   "source": [
    "non_integer_df"
   ]
  },
  {
   "cell_type": "code",
   "execution_count": 16,
   "metadata": {},
   "outputs": [
    {
     "data": {
      "text/html": [
       "<div>\n",
       "<style scoped>\n",
       "    .dataframe tbody tr th:only-of-type {\n",
       "        vertical-align: middle;\n",
       "    }\n",
       "\n",
       "    .dataframe tbody tr th {\n",
       "        vertical-align: top;\n",
       "    }\n",
       "\n",
       "    .dataframe thead th {\n",
       "        text-align: right;\n",
       "    }\n",
       "</style>\n",
       "<table border=\"1\" class=\"dataframe\">\n",
       "  <thead>\n",
       "    <tr style=\"text-align: right;\">\n",
       "      <th></th>\n",
       "      <th>ISBN</th>\n",
       "      <th>bookTitle</th>\n",
       "      <th>bookAuthor</th>\n",
       "      <th>yearOfPublication</th>\n",
       "      <th>publisher</th>\n",
       "    </tr>\n",
       "  </thead>\n",
       "  <tbody>\n",
       "    <tr>\n",
       "      <th>209538</th>\n",
       "      <td>078946697X</td>\n",
       "      <td>DK Readers: Creating the X-Men, How It All Began (Level 4: Proficient Readers)\\\";Michael Teitelbaum\"</td>\n",
       "      <td>2000</td>\n",
       "      <td>DK Publishing Inc</td>\n",
       "      <td>http://images.amazon.com/images/P/078946697X.01.THUMBZZZ.jpg</td>\n",
       "    </tr>\n",
       "    <tr>\n",
       "      <th>221678</th>\n",
       "      <td>0789466953</td>\n",
       "      <td>DK Readers: Creating the X-Men, How Comic Books Come to Life (Level 4: Proficient Readers)\\\";James Buckley\"</td>\n",
       "      <td>2000</td>\n",
       "      <td>DK Publishing Inc</td>\n",
       "      <td>http://images.amazon.com/images/P/0789466953.01.THUMBZZZ.jpg</td>\n",
       "    </tr>\n",
       "  </tbody>\n",
       "</table>\n",
       "</div>"
      ],
      "text/plain": [
       "              ISBN  \\\n",
       "209538  078946697X   \n",
       "221678  0789466953   \n",
       "\n",
       "                                                                                                          bookTitle  \\\n",
       "209538         DK Readers: Creating the X-Men, How It All Began (Level 4: Proficient Readers)\\\";Michael Teitelbaum\"   \n",
       "221678  DK Readers: Creating the X-Men, How Comic Books Come to Life (Level 4: Proficient Readers)\\\";James Buckley\"   \n",
       "\n",
       "       bookAuthor  yearOfPublication  \\\n",
       "209538       2000  DK Publishing Inc   \n",
       "221678       2000  DK Publishing Inc   \n",
       "\n",
       "                                                           publisher  \n",
       "209538  http://images.amazon.com/images/P/078946697X.01.THUMBZZZ.jpg  \n",
       "221678  http://images.amazon.com/images/P/0789466953.01.THUMBZZZ.jpg  "
      ]
     },
     "execution_count": 16,
     "metadata": {},
     "output_type": "execute_result"
    }
   ],
   "source": [
    "books_data.loc[books_data.yearOfPublication == \"DK Publishing Inc\"]"
   ]
  },
  {
   "cell_type": "code",
   "execution_count": 17,
   "metadata": {},
   "outputs": [],
   "source": [
    "#Taken from the recommendation notebook in the dataset description\n",
    "books_data.loc[books_data.ISBN == '0789466953','yearOfPublication'] = 2000\n",
    "books_data.loc[books_data.ISBN == '0789466953','bookAuthor'] = \"James Buckley\"\n",
    "books_data.loc[books_data.ISBN == '0789466953','publisher'] = \"DK Publishing Inc\"\n",
    "books_data.loc[books_data.ISBN == '0789466953','bookTitle'] = \"DK Readers: Creating the X-Men, How Comic Books Come to Life (Level 4: Proficient Readers)\"\n",
    "\n",
    "#ISBN '078946697X'\n",
    "books_data.loc[books_data.ISBN == '078946697X','yearOfPublication'] = 2000\n",
    "books_data.loc[books_data.ISBN == '078946697X','bookAuthor'] = \"Michael Teitelbaum\"\n",
    "books_data.loc[books_data.ISBN == '078946697X','publisher'] = \"DK Publishing Inc\"\n",
    "books_data.loc[books_data.ISBN == '078946697X','bookTitle'] = \"DK Readers: Creating the X-Men, How It All Began (Level 4: Proficient Readers)\""
   ]
  },
  {
   "cell_type": "code",
   "execution_count": 18,
   "metadata": {},
   "outputs": [
    {
     "data": {
      "text/html": [
       "<div>\n",
       "<style scoped>\n",
       "    .dataframe tbody tr th:only-of-type {\n",
       "        vertical-align: middle;\n",
       "    }\n",
       "\n",
       "    .dataframe tbody tr th {\n",
       "        vertical-align: top;\n",
       "    }\n",
       "\n",
       "    .dataframe thead th {\n",
       "        text-align: right;\n",
       "    }\n",
       "</style>\n",
       "<table border=\"1\" class=\"dataframe\">\n",
       "  <thead>\n",
       "    <tr style=\"text-align: right;\">\n",
       "      <th></th>\n",
       "      <th>ISBN</th>\n",
       "      <th>bookTitle</th>\n",
       "      <th>bookAuthor</th>\n",
       "      <th>yearOfPublication</th>\n",
       "      <th>publisher</th>\n",
       "    </tr>\n",
       "  </thead>\n",
       "  <tbody>\n",
       "    <tr>\n",
       "      <th>209538</th>\n",
       "      <td>078946697X</td>\n",
       "      <td>DK Readers: Creating the X-Men, How It All Began (Level 4: Proficient Readers)</td>\n",
       "      <td>Michael Teitelbaum</td>\n",
       "      <td>2000</td>\n",
       "      <td>DK Publishing Inc</td>\n",
       "    </tr>\n",
       "    <tr>\n",
       "      <th>221678</th>\n",
       "      <td>0789466953</td>\n",
       "      <td>DK Readers: Creating the X-Men, How Comic Books Come to Life (Level 4: Proficient Readers)</td>\n",
       "      <td>James Buckley</td>\n",
       "      <td>2000</td>\n",
       "      <td>DK Publishing Inc</td>\n",
       "    </tr>\n",
       "  </tbody>\n",
       "</table>\n",
       "</div>"
      ],
      "text/plain": [
       "              ISBN  \\\n",
       "209538  078946697X   \n",
       "221678  0789466953   \n",
       "\n",
       "                                                                                         bookTitle  \\\n",
       "209538              DK Readers: Creating the X-Men, How It All Began (Level 4: Proficient Readers)   \n",
       "221678  DK Readers: Creating the X-Men, How Comic Books Come to Life (Level 4: Proficient Readers)   \n",
       "\n",
       "                bookAuthor yearOfPublication          publisher  \n",
       "209538  Michael Teitelbaum              2000  DK Publishing Inc  \n",
       "221678       James Buckley              2000  DK Publishing Inc  "
      ]
     },
     "execution_count": 18,
     "metadata": {},
     "output_type": "execute_result"
    }
   ],
   "source": [
    "#Check the fix\n",
    "books_data.loc[(books_data.ISBN == '0789466953') | (books_data.ISBN == '078946697X')]"
   ]
  },
  {
   "cell_type": "code",
   "execution_count": 19,
   "metadata": {},
   "outputs": [],
   "source": [
    "#books_data.yearOfPublication = pd.to_numeric(books_data.yearOfPublication)\n",
    "# => returns Unable to parse string \"Gallimard\" at position 220731"
   ]
  },
  {
   "cell_type": "code",
   "execution_count": 20,
   "metadata": {},
   "outputs": [
    {
     "data": {
      "text/html": [
       "<div>\n",
       "<style scoped>\n",
       "    .dataframe tbody tr th:only-of-type {\n",
       "        vertical-align: middle;\n",
       "    }\n",
       "\n",
       "    .dataframe tbody tr th {\n",
       "        vertical-align: top;\n",
       "    }\n",
       "\n",
       "    .dataframe thead th {\n",
       "        text-align: right;\n",
       "    }\n",
       "</style>\n",
       "<table border=\"1\" class=\"dataframe\">\n",
       "  <thead>\n",
       "    <tr style=\"text-align: right;\">\n",
       "      <th></th>\n",
       "      <th>ISBN</th>\n",
       "      <th>bookTitle</th>\n",
       "      <th>bookAuthor</th>\n",
       "      <th>yearOfPublication</th>\n",
       "      <th>publisher</th>\n",
       "    </tr>\n",
       "  </thead>\n",
       "  <tbody>\n",
       "    <tr>\n",
       "      <th>220731</th>\n",
       "      <td>2070426769</td>\n",
       "      <td>Peuple du ciel, suivi de 'Les Bergers\\\";Jean-Marie Gustave Le ClÃ?Â©zio\"</td>\n",
       "      <td>2003</td>\n",
       "      <td>Gallimard</td>\n",
       "      <td>http://images.amazon.com/images/P/2070426769.01.THUMBZZZ.jpg</td>\n",
       "    </tr>\n",
       "  </tbody>\n",
       "</table>\n",
       "</div>"
      ],
      "text/plain": [
       "              ISBN  \\\n",
       "220731  2070426769   \n",
       "\n",
       "                                                                       bookTitle  \\\n",
       "220731  Peuple du ciel, suivi de 'Les Bergers\\\";Jean-Marie Gustave Le ClÃ?Â©zio\"   \n",
       "\n",
       "       bookAuthor yearOfPublication  \\\n",
       "220731       2003         Gallimard   \n",
       "\n",
       "                                                           publisher  \n",
       "220731  http://images.amazon.com/images/P/2070426769.01.THUMBZZZ.jpg  "
      ]
     },
     "execution_count": 20,
     "metadata": {},
     "output_type": "execute_result"
    }
   ],
   "source": [
    "books_data.loc[books_data.yearOfPublication == \"Gallimard\"]"
   ]
  },
  {
   "cell_type": "code",
   "execution_count": 21,
   "metadata": {},
   "outputs": [],
   "source": [
    "#Taken from the recommendation notebook in the dataset description\n",
    "books_data.loc[books_data.ISBN == '2070426769','yearOfPublication'] = 2003\n",
    "books_data.loc[books_data.ISBN == '2070426769','bookAuthor'] = \"Jean-Marie Gustave Le ClÃ?Â©zio\"\n",
    "books_data.loc[books_data.ISBN == '2070426769','publisher'] = \"Gallimard\"\n",
    "books_data.loc[books_data.ISBN == '2070426769','bookTitle'] = \"Peuple du ciel, suivi de 'Les Bergers\""
   ]
  },
  {
   "cell_type": "code",
   "execution_count": 22,
   "metadata": {},
   "outputs": [
    {
     "data": {
      "text/html": [
       "<div>\n",
       "<style scoped>\n",
       "    .dataframe tbody tr th:only-of-type {\n",
       "        vertical-align: middle;\n",
       "    }\n",
       "\n",
       "    .dataframe tbody tr th {\n",
       "        vertical-align: top;\n",
       "    }\n",
       "\n",
       "    .dataframe thead th {\n",
       "        text-align: right;\n",
       "    }\n",
       "</style>\n",
       "<table border=\"1\" class=\"dataframe\">\n",
       "  <thead>\n",
       "    <tr style=\"text-align: right;\">\n",
       "      <th></th>\n",
       "      <th>ISBN</th>\n",
       "      <th>bookTitle</th>\n",
       "      <th>bookAuthor</th>\n",
       "      <th>yearOfPublication</th>\n",
       "      <th>publisher</th>\n",
       "    </tr>\n",
       "  </thead>\n",
       "  <tbody>\n",
       "    <tr>\n",
       "      <th>220731</th>\n",
       "      <td>2070426769</td>\n",
       "      <td>Peuple du ciel, suivi de 'Les Bergers</td>\n",
       "      <td>Jean-Marie Gustave Le ClÃ?Â©zio</td>\n",
       "      <td>2003</td>\n",
       "      <td>Gallimard</td>\n",
       "    </tr>\n",
       "  </tbody>\n",
       "</table>\n",
       "</div>"
      ],
      "text/plain": [
       "              ISBN                              bookTitle  \\\n",
       "220731  2070426769  Peuple du ciel, suivi de 'Les Bergers   \n",
       "\n",
       "                             bookAuthor yearOfPublication  publisher  \n",
       "220731  Jean-Marie Gustave Le ClÃ?Â©zio              2003  Gallimard  "
      ]
     },
     "execution_count": 22,
     "metadata": {},
     "output_type": "execute_result"
    }
   ],
   "source": [
    "#Check fix\n",
    "books_data.loc[books_data.ISBN == '2070426769']"
   ]
  },
  {
   "cell_type": "code",
   "execution_count": 23,
   "metadata": {},
   "outputs": [
    {
     "name": "stdout",
     "output_type": "stream",
     "text": [
      "<class 'pandas.core.frame.DataFrame'>\n",
      "RangeIndex: 271360 entries, 0 to 271359\n",
      "Data columns (total 5 columns):\n",
      " #   Column             Non-Null Count   Dtype \n",
      "---  ------             --------------   ----- \n",
      " 0   ISBN               271360 non-null  object\n",
      " 1   bookTitle          271360 non-null  object\n",
      " 2   bookAuthor         271358 non-null  object\n",
      " 3   yearOfPublication  271360 non-null  int64 \n",
      " 4   publisher          271358 non-null  object\n",
      "dtypes: int64(1), object(4)\n",
      "memory usage: 10.4+ MB\n"
     ]
    }
   ],
   "source": [
    "#years fixed\n",
    "books_data.yearOfPublication = pd.to_numeric(books_data.yearOfPublication)\n",
    "books_data.info()"
   ]
  },
  {
   "cell_type": "markdown",
   "metadata": {},
   "source": [
    "The recommendation notebook also suggests removing future values because the dataset was published in 2004 and keeping some margin to 2006"
   ]
  },
  {
   "cell_type": "code",
   "execution_count": 24,
   "metadata": {},
   "outputs": [
    {
     "data": {
      "text/plain": [
       "array([2002, 2001, 1991, 1999, 2000, 1993, 1996, 1988, 2004, 1998, 1994,\n",
       "       2003, 1997, 1983, 1979, 1995, 1982, 1985, 1992, 1986, 1978, 1980,\n",
       "       1952, 1987, 1990, 1981, 1989, 1984,    0, 1968, 1961, 1958, 1974,\n",
       "       1976, 1971, 1977, 1975, 1965, 1941, 1970, 1962, 1973, 1972, 1960,\n",
       "       1966, 1920, 1956, 1959, 1953, 1951, 1942, 1963, 1964, 1969, 1954,\n",
       "       1950, 1967, 2005, 1957, 1940, 1937, 1955, 1946, 1936, 1930, 2011,\n",
       "       1925, 1948, 1943, 1947, 1945, 1923, 2020, 1939, 1926, 1938, 2030,\n",
       "       1911, 1904, 1949, 1932, 1928, 1929, 1927, 1931, 1914, 2050, 1934,\n",
       "       1910, 1933, 1902, 1924, 1921, 1900, 2038, 2026, 1944, 1917, 1901,\n",
       "       2010, 1908, 1906, 1935, 1806, 2021, 2012, 2006, 1909, 2008, 1378,\n",
       "       1919, 1922, 1897, 2024, 1376, 2037])"
      ]
     },
     "execution_count": 24,
     "metadata": {},
     "output_type": "execute_result"
    }
   ],
   "source": [
    "#There was never year 0 just 1BC and 1 AD \n",
    "books_data.yearOfPublication.unique()"
   ]
  },
  {
   "cell_type": "markdown",
   "metadata": {},
   "source": [
    "Mean imputing here is quite questionable it really depends whether we believe that these values are just typos or there can be some reason why is it such (then it might make sense to change values above 2006 to 2006 and 0 to 1 for instance) but without more info it is safer to relly on mean imputing"
   ]
  },
  {
   "cell_type": "code",
   "execution_count": 25,
   "metadata": {},
   "outputs": [
    {
     "name": "stderr",
     "output_type": "stream",
     "text": [
      "/tmp/ipykernel_130693/1320523922.py:2: FutureWarning: A value is trying to be set on a copy of a DataFrame or Series through chained assignment using an inplace method.\n",
      "The behavior will change in pandas 3.0. This inplace method will never work because the intermediate object on which we are setting values always behaves as a copy.\n",
      "\n",
      "For example, when doing 'df[col].method(value, inplace=True)', try using 'df.method({col: value}, inplace=True)' or df[col] = df[col].method(value) instead, to perform the operation inplace on the original object.\n",
      "\n",
      "\n",
      "  books_data.yearOfPublication.fillna(round(books_data.yearOfPublication.mean()), inplace=True)\n"
     ]
    }
   ],
   "source": [
    "books_data.loc[(books_data.yearOfPublication > 2006) | (books_data.yearOfPublication == 0),'yearOfPublication'] = np.NAN\n",
    "books_data.yearOfPublication.fillna(round(books_data.yearOfPublication.mean()), inplace=True)"
   ]
  },
  {
   "cell_type": "code",
   "execution_count": 26,
   "metadata": {},
   "outputs": [
    {
     "data": {
      "text/plain": [
       "ISBN                 0\n",
       "bookTitle            0\n",
       "bookAuthor           2\n",
       "yearOfPublication    0\n",
       "publisher            2\n",
       "dtype: int64"
      ]
     },
     "execution_count": 26,
     "metadata": {},
     "output_type": "execute_result"
    }
   ],
   "source": [
    "books_data.isna().sum()"
   ]
  },
  {
   "cell_type": "code",
   "execution_count": 27,
   "metadata": {},
   "outputs": [
    {
     "data": {
      "text/html": [
       "<div>\n",
       "<style scoped>\n",
       "    .dataframe tbody tr th:only-of-type {\n",
       "        vertical-align: middle;\n",
       "    }\n",
       "\n",
       "    .dataframe tbody tr th {\n",
       "        vertical-align: top;\n",
       "    }\n",
       "\n",
       "    .dataframe thead th {\n",
       "        text-align: right;\n",
       "    }\n",
       "</style>\n",
       "<table border=\"1\" class=\"dataframe\">\n",
       "  <thead>\n",
       "    <tr style=\"text-align: right;\">\n",
       "      <th></th>\n",
       "      <th>ISBN</th>\n",
       "      <th>bookTitle</th>\n",
       "      <th>bookAuthor</th>\n",
       "      <th>yearOfPublication</th>\n",
       "      <th>publisher</th>\n",
       "    </tr>\n",
       "  </thead>\n",
       "  <tbody>\n",
       "    <tr>\n",
       "      <th>118033</th>\n",
       "      <td>0751352497</td>\n",
       "      <td>A+ Quiz Masters:01 Earth</td>\n",
       "      <td>NaN</td>\n",
       "      <td>1999.0</td>\n",
       "      <td>Dorling Kindersley</td>\n",
       "    </tr>\n",
       "    <tr>\n",
       "      <th>128890</th>\n",
       "      <td>193169656X</td>\n",
       "      <td>Tyrant Moon</td>\n",
       "      <td>Elaine Corvidae</td>\n",
       "      <td>2002.0</td>\n",
       "      <td>NaN</td>\n",
       "    </tr>\n",
       "    <tr>\n",
       "      <th>129037</th>\n",
       "      <td>1931696993</td>\n",
       "      <td>Finders Keepers</td>\n",
       "      <td>Linnea Sinclair</td>\n",
       "      <td>2001.0</td>\n",
       "      <td>NaN</td>\n",
       "    </tr>\n",
       "    <tr>\n",
       "      <th>187689</th>\n",
       "      <td>9627982032</td>\n",
       "      <td>The Credit Suisse Guide to Managing Your Personal Wealth</td>\n",
       "      <td>NaN</td>\n",
       "      <td>1995.0</td>\n",
       "      <td>Edinburgh Financial Publishing</td>\n",
       "    </tr>\n",
       "  </tbody>\n",
       "</table>\n",
       "</div>"
      ],
      "text/plain": [
       "              ISBN                                                 bookTitle  \\\n",
       "118033  0751352497                                  A+ Quiz Masters:01 Earth   \n",
       "128890  193169656X                                               Tyrant Moon   \n",
       "129037  1931696993                                           Finders Keepers   \n",
       "187689  9627982032  The Credit Suisse Guide to Managing Your Personal Wealth   \n",
       "\n",
       "             bookAuthor  yearOfPublication                       publisher  \n",
       "118033              NaN             1999.0              Dorling Kindersley  \n",
       "128890  Elaine Corvidae             2002.0                             NaN  \n",
       "129037  Linnea Sinclair             2001.0                             NaN  \n",
       "187689              NaN             1995.0  Edinburgh Financial Publishing  "
      ]
     },
     "execution_count": 27,
     "metadata": {},
     "output_type": "execute_result"
    }
   ],
   "source": [
    "books_data.loc[(books_data.bookAuthor.isna()) | (books_data.publisher.isna())]"
   ]
  },
  {
   "cell_type": "code",
   "execution_count": 28,
   "metadata": {},
   "outputs": [],
   "source": [
    "books_data.loc[(books_data.bookAuthor.isna()), \"bookAuthor\"] = \"unknown\"\n",
    "books_data.loc[(books_data.publisher.isna()), \"publisher\"] = \"unknown\"\n"
   ]
  },
  {
   "cell_type": "code",
   "execution_count": 29,
   "metadata": {},
   "outputs": [
    {
     "data": {
      "text/html": [
       "<div>\n",
       "<style scoped>\n",
       "    .dataframe tbody tr th:only-of-type {\n",
       "        vertical-align: middle;\n",
       "    }\n",
       "\n",
       "    .dataframe tbody tr th {\n",
       "        vertical-align: top;\n",
       "    }\n",
       "\n",
       "    .dataframe thead th {\n",
       "        text-align: right;\n",
       "    }\n",
       "</style>\n",
       "<table border=\"1\" class=\"dataframe\">\n",
       "  <thead>\n",
       "    <tr style=\"text-align: right;\">\n",
       "      <th></th>\n",
       "      <th>ISBN</th>\n",
       "      <th>bookTitle</th>\n",
       "      <th>bookAuthor</th>\n",
       "      <th>yearOfPublication</th>\n",
       "      <th>publisher</th>\n",
       "    </tr>\n",
       "  </thead>\n",
       "  <tbody>\n",
       "    <tr>\n",
       "      <th>118033</th>\n",
       "      <td>0751352497</td>\n",
       "      <td>A+ Quiz Masters:01 Earth</td>\n",
       "      <td>unknown</td>\n",
       "      <td>1999.0</td>\n",
       "      <td>Dorling Kindersley</td>\n",
       "    </tr>\n",
       "    <tr>\n",
       "      <th>128890</th>\n",
       "      <td>193169656X</td>\n",
       "      <td>Tyrant Moon</td>\n",
       "      <td>Elaine Corvidae</td>\n",
       "      <td>2002.0</td>\n",
       "      <td>unknown</td>\n",
       "    </tr>\n",
       "    <tr>\n",
       "      <th>129037</th>\n",
       "      <td>1931696993</td>\n",
       "      <td>Finders Keepers</td>\n",
       "      <td>Linnea Sinclair</td>\n",
       "      <td>2001.0</td>\n",
       "      <td>unknown</td>\n",
       "    </tr>\n",
       "    <tr>\n",
       "      <th>187689</th>\n",
       "      <td>9627982032</td>\n",
       "      <td>The Credit Suisse Guide to Managing Your Personal Wealth</td>\n",
       "      <td>unknown</td>\n",
       "      <td>1995.0</td>\n",
       "      <td>Edinburgh Financial Publishing</td>\n",
       "    </tr>\n",
       "  </tbody>\n",
       "</table>\n",
       "</div>"
      ],
      "text/plain": [
       "              ISBN                                                 bookTitle  \\\n",
       "118033  0751352497                                  A+ Quiz Masters:01 Earth   \n",
       "128890  193169656X                                               Tyrant Moon   \n",
       "129037  1931696993                                           Finders Keepers   \n",
       "187689  9627982032  The Credit Suisse Guide to Managing Your Personal Wealth   \n",
       "\n",
       "             bookAuthor  yearOfPublication                       publisher  \n",
       "118033          unknown             1999.0              Dorling Kindersley  \n",
       "128890  Elaine Corvidae             2002.0                         unknown  \n",
       "129037  Linnea Sinclair             2001.0                         unknown  \n",
       "187689          unknown             1995.0  Edinburgh Financial Publishing  "
      ]
     },
     "execution_count": 29,
     "metadata": {},
     "output_type": "execute_result"
    }
   ],
   "source": [
    "books_data.loc[(books_data.ISBN == \"0751352497\") | \n",
    "            (books_data.ISBN == \"193169656X\") | (books_data.ISBN == \"1931696993\") |\n",
    "            (books_data.ISBN == \"9627982032\")]"
   ]
  },
  {
   "cell_type": "code",
   "execution_count": 30,
   "metadata": {},
   "outputs": [
    {
     "data": {
      "text/plain": [
       "ISBN                 0\n",
       "bookTitle            0\n",
       "bookAuthor           0\n",
       "yearOfPublication    0\n",
       "publisher            0\n",
       "dtype: int64"
      ]
     },
     "execution_count": 30,
     "metadata": {},
     "output_type": "execute_result"
    }
   ],
   "source": [
    "# Removed all missing values\n",
    "books_data.isna().sum()"
   ]
  },
  {
   "cell_type": "code",
   "execution_count": 68,
   "metadata": {},
   "outputs": [],
   "source": [
    "books_data.to_csv(\"./../data/books_filtered.csv\")"
   ]
  },
  {
   "cell_type": "code",
   "execution_count": 31,
   "metadata": {},
   "outputs": [
    {
     "data": {
      "text/html": [
       "<div>\n",
       "<style scoped>\n",
       "    .dataframe tbody tr th:only-of-type {\n",
       "        vertical-align: middle;\n",
       "    }\n",
       "\n",
       "    .dataframe tbody tr th {\n",
       "        vertical-align: top;\n",
       "    }\n",
       "\n",
       "    .dataframe thead th {\n",
       "        text-align: right;\n",
       "    }\n",
       "</style>\n",
       "<table border=\"1\" class=\"dataframe\">\n",
       "  <thead>\n",
       "    <tr style=\"text-align: right;\">\n",
       "      <th></th>\n",
       "      <th>userID</th>\n",
       "      <th>Location</th>\n",
       "      <th>Age</th>\n",
       "    </tr>\n",
       "  </thead>\n",
       "  <tbody>\n",
       "    <tr>\n",
       "      <th>0</th>\n",
       "      <td>1</td>\n",
       "      <td>nyc, new york, usa</td>\n",
       "      <td>NaN</td>\n",
       "    </tr>\n",
       "    <tr>\n",
       "      <th>1</th>\n",
       "      <td>2</td>\n",
       "      <td>stockton, california, usa</td>\n",
       "      <td>18.0</td>\n",
       "    </tr>\n",
       "    <tr>\n",
       "      <th>2</th>\n",
       "      <td>3</td>\n",
       "      <td>moscow, yukon territory, russia</td>\n",
       "      <td>NaN</td>\n",
       "    </tr>\n",
       "    <tr>\n",
       "      <th>3</th>\n",
       "      <td>4</td>\n",
       "      <td>porto, v.n.gaia, portugal</td>\n",
       "      <td>17.0</td>\n",
       "    </tr>\n",
       "    <tr>\n",
       "      <th>4</th>\n",
       "      <td>5</td>\n",
       "      <td>farnborough, hants, united kingdom</td>\n",
       "      <td>NaN</td>\n",
       "    </tr>\n",
       "    <tr>\n",
       "      <th>5</th>\n",
       "      <td>6</td>\n",
       "      <td>santa monica, california, usa</td>\n",
       "      <td>61.0</td>\n",
       "    </tr>\n",
       "    <tr>\n",
       "      <th>6</th>\n",
       "      <td>7</td>\n",
       "      <td>washington, dc, usa</td>\n",
       "      <td>NaN</td>\n",
       "    </tr>\n",
       "    <tr>\n",
       "      <th>7</th>\n",
       "      <td>8</td>\n",
       "      <td>timmins, ontario, canada</td>\n",
       "      <td>NaN</td>\n",
       "    </tr>\n",
       "    <tr>\n",
       "      <th>8</th>\n",
       "      <td>9</td>\n",
       "      <td>germantown, tennessee, usa</td>\n",
       "      <td>NaN</td>\n",
       "    </tr>\n",
       "    <tr>\n",
       "      <th>9</th>\n",
       "      <td>10</td>\n",
       "      <td>albacete, wisconsin, spain</td>\n",
       "      <td>26.0</td>\n",
       "    </tr>\n",
       "    <tr>\n",
       "      <th>10</th>\n",
       "      <td>11</td>\n",
       "      <td>melbourne, victoria, australia</td>\n",
       "      <td>14.0</td>\n",
       "    </tr>\n",
       "    <tr>\n",
       "      <th>11</th>\n",
       "      <td>12</td>\n",
       "      <td>fort bragg, california, usa</td>\n",
       "      <td>NaN</td>\n",
       "    </tr>\n",
       "    <tr>\n",
       "      <th>12</th>\n",
       "      <td>13</td>\n",
       "      <td>barcelona, barcelona, spain</td>\n",
       "      <td>26.0</td>\n",
       "    </tr>\n",
       "    <tr>\n",
       "      <th>13</th>\n",
       "      <td>14</td>\n",
       "      <td>mediapolis, iowa, usa</td>\n",
       "      <td>NaN</td>\n",
       "    </tr>\n",
       "    <tr>\n",
       "      <th>14</th>\n",
       "      <td>15</td>\n",
       "      <td>calgary, alberta, canada</td>\n",
       "      <td>NaN</td>\n",
       "    </tr>\n",
       "    <tr>\n",
       "      <th>15</th>\n",
       "      <td>16</td>\n",
       "      <td>albuquerque, new mexico, usa</td>\n",
       "      <td>NaN</td>\n",
       "    </tr>\n",
       "    <tr>\n",
       "      <th>16</th>\n",
       "      <td>17</td>\n",
       "      <td>chesapeake, virginia, usa</td>\n",
       "      <td>NaN</td>\n",
       "    </tr>\n",
       "    <tr>\n",
       "      <th>17</th>\n",
       "      <td>18</td>\n",
       "      <td>rio de janeiro, rio de janeiro, brazil</td>\n",
       "      <td>25.0</td>\n",
       "    </tr>\n",
       "    <tr>\n",
       "      <th>18</th>\n",
       "      <td>19</td>\n",
       "      <td>weston, ,</td>\n",
       "      <td>14.0</td>\n",
       "    </tr>\n",
       "    <tr>\n",
       "      <th>19</th>\n",
       "      <td>20</td>\n",
       "      <td>langhorne, pennsylvania, usa</td>\n",
       "      <td>19.0</td>\n",
       "    </tr>\n",
       "  </tbody>\n",
       "</table>\n",
       "</div>"
      ],
      "text/plain": [
       "    userID                                Location   Age\n",
       "0        1                      nyc, new york, usa   NaN\n",
       "1        2               stockton, california, usa  18.0\n",
       "2        3         moscow, yukon territory, russia   NaN\n",
       "3        4               porto, v.n.gaia, portugal  17.0\n",
       "4        5      farnborough, hants, united kingdom   NaN\n",
       "5        6           santa monica, california, usa  61.0\n",
       "6        7                     washington, dc, usa   NaN\n",
       "7        8                timmins, ontario, canada   NaN\n",
       "8        9              germantown, tennessee, usa   NaN\n",
       "9       10              albacete, wisconsin, spain  26.0\n",
       "10      11          melbourne, victoria, australia  14.0\n",
       "11      12             fort bragg, california, usa   NaN\n",
       "12      13             barcelona, barcelona, spain  26.0\n",
       "13      14                   mediapolis, iowa, usa   NaN\n",
       "14      15                calgary, alberta, canada   NaN\n",
       "15      16            albuquerque, new mexico, usa   NaN\n",
       "16      17               chesapeake, virginia, usa   NaN\n",
       "17      18  rio de janeiro, rio de janeiro, brazil  25.0\n",
       "18      19                               weston, ,  14.0\n",
       "19      20            langhorne, pennsylvania, usa  19.0"
      ]
     },
     "execution_count": 31,
     "metadata": {},
     "output_type": "execute_result"
    }
   ],
   "source": [
    "users_data.head(20)"
   ]
  },
  {
   "cell_type": "code",
   "execution_count": 32,
   "metadata": {},
   "outputs": [],
   "source": [
    "users_data[[\"City\",\"Region\",\"State\"]] = users_data.Location.str.split(', ', expand=True).iloc[:,:3]"
   ]
  },
  {
   "cell_type": "code",
   "execution_count": 33,
   "metadata": {},
   "outputs": [
    {
     "data": {
      "text/plain": [
       "userID           0\n",
       "Location         0\n",
       "Age         110762\n",
       "City             0\n",
       "Region           1\n",
       "State         4577\n",
       "dtype: int64"
      ]
     },
     "execution_count": 33,
     "metadata": {},
     "output_type": "execute_result"
    }
   ],
   "source": [
    "users_data.isna().sum()"
   ]
  },
  {
   "cell_type": "code",
   "execution_count": 34,
   "metadata": {},
   "outputs": [
    {
     "data": {
      "text/html": [
       "<div>\n",
       "<style scoped>\n",
       "    .dataframe tbody tr th:only-of-type {\n",
       "        vertical-align: middle;\n",
       "    }\n",
       "\n",
       "    .dataframe tbody tr th {\n",
       "        vertical-align: top;\n",
       "    }\n",
       "\n",
       "    .dataframe thead th {\n",
       "        text-align: right;\n",
       "    }\n",
       "</style>\n",
       "<table border=\"1\" class=\"dataframe\">\n",
       "  <thead>\n",
       "    <tr style=\"text-align: right;\">\n",
       "      <th></th>\n",
       "      <th>userID</th>\n",
       "      <th>Location</th>\n",
       "      <th>Age</th>\n",
       "      <th>City</th>\n",
       "      <th>Region</th>\n",
       "      <th>State</th>\n",
       "    </tr>\n",
       "  </thead>\n",
       "  <tbody>\n",
       "    <tr>\n",
       "      <th>134376</th>\n",
       "      <td>134377</td>\n",
       "      <td>lawrenceville</td>\n",
       "      <td>30.0</td>\n",
       "      <td>lawrenceville</td>\n",
       "      <td>None</td>\n",
       "      <td>None</td>\n",
       "    </tr>\n",
       "  </tbody>\n",
       "</table>\n",
       "</div>"
      ],
      "text/plain": [
       "        userID       Location   Age           City Region State\n",
       "134376  134377  lawrenceville  30.0  lawrenceville   None  None"
      ]
     },
     "execution_count": 34,
     "metadata": {},
     "output_type": "execute_result"
    }
   ],
   "source": [
    "users_data.loc[users_data.Region.isna()]"
   ]
  },
  {
   "cell_type": "code",
   "execution_count": 35,
   "metadata": {},
   "outputs": [],
   "source": [
    "users_data.loc[users_data.Region.isna(),[\"Region\",\"State\"]] = \"georgia\", \"usa\""
   ]
  },
  {
   "cell_type": "code",
   "execution_count": 36,
   "metadata": {},
   "outputs": [
    {
     "data": {
      "text/html": [
       "<div>\n",
       "<style scoped>\n",
       "    .dataframe tbody tr th:only-of-type {\n",
       "        vertical-align: middle;\n",
       "    }\n",
       "\n",
       "    .dataframe tbody tr th {\n",
       "        vertical-align: top;\n",
       "    }\n",
       "\n",
       "    .dataframe thead th {\n",
       "        text-align: right;\n",
       "    }\n",
       "</style>\n",
       "<table border=\"1\" class=\"dataframe\">\n",
       "  <thead>\n",
       "    <tr style=\"text-align: right;\">\n",
       "      <th></th>\n",
       "      <th>userID</th>\n",
       "      <th>Location</th>\n",
       "      <th>Age</th>\n",
       "      <th>City</th>\n",
       "      <th>Region</th>\n",
       "      <th>State</th>\n",
       "    </tr>\n",
       "  </thead>\n",
       "  <tbody>\n",
       "    <tr>\n",
       "      <th>18</th>\n",
       "      <td>19</td>\n",
       "      <td>weston, ,</td>\n",
       "      <td>14.0</td>\n",
       "      <td>weston</td>\n",
       "      <td>,</td>\n",
       "      <td>None</td>\n",
       "    </tr>\n",
       "    <tr>\n",
       "      <th>90</th>\n",
       "      <td>91</td>\n",
       "      <td>toronto/newmarket, ,</td>\n",
       "      <td>NaN</td>\n",
       "      <td>toronto/newmarket</td>\n",
       "      <td>,</td>\n",
       "      <td>None</td>\n",
       "    </tr>\n",
       "    <tr>\n",
       "      <th>311</th>\n",
       "      <td>312</td>\n",
       "      <td>lk, jlk,</td>\n",
       "      <td>NaN</td>\n",
       "      <td>lk</td>\n",
       "      <td>jlk,</td>\n",
       "      <td>None</td>\n",
       "    </tr>\n",
       "    <tr>\n",
       "      <th>317</th>\n",
       "      <td>318</td>\n",
       "      <td>berlin, n/a,</td>\n",
       "      <td>NaN</td>\n",
       "      <td>berlin</td>\n",
       "      <td>n/a,</td>\n",
       "      <td>None</td>\n",
       "    </tr>\n",
       "    <tr>\n",
       "      <th>536</th>\n",
       "      <td>537</td>\n",
       "      <td>davis, california,</td>\n",
       "      <td>NaN</td>\n",
       "      <td>davis</td>\n",
       "      <td>california,</td>\n",
       "      <td>None</td>\n",
       "    </tr>\n",
       "    <tr>\n",
       "      <th>...</th>\n",
       "      <td>...</td>\n",
       "      <td>...</td>\n",
       "      <td>...</td>\n",
       "      <td>...</td>\n",
       "      <td>...</td>\n",
       "      <td>...</td>\n",
       "    </tr>\n",
       "    <tr>\n",
       "      <th>278624</th>\n",
       "      <td>278625</td>\n",
       "      <td>savona, ,</td>\n",
       "      <td>36.0</td>\n",
       "      <td>savona</td>\n",
       "      <td>,</td>\n",
       "      <td>None</td>\n",
       "    </tr>\n",
       "    <tr>\n",
       "      <th>278651</th>\n",
       "      <td>278652</td>\n",
       "      <td>murrieta, ,</td>\n",
       "      <td>NaN</td>\n",
       "      <td>murrieta</td>\n",
       "      <td>,</td>\n",
       "      <td>None</td>\n",
       "    </tr>\n",
       "    <tr>\n",
       "      <th>278697</th>\n",
       "      <td>278698</td>\n",
       "      <td>pasadena, maryland,</td>\n",
       "      <td>NaN</td>\n",
       "      <td>pasadena</td>\n",
       "      <td>maryland,</td>\n",
       "      <td>None</td>\n",
       "    </tr>\n",
       "    <tr>\n",
       "      <th>278716</th>\n",
       "      <td>278717</td>\n",
       "      <td>mayagüez, puerto rico,</td>\n",
       "      <td>53.0</td>\n",
       "      <td>mayagüez</td>\n",
       "      <td>puerto rico,</td>\n",
       "      <td>None</td>\n",
       "    </tr>\n",
       "    <tr>\n",
       "      <th>278776</th>\n",
       "      <td>278777</td>\n",
       "      <td>overland park, kansas,</td>\n",
       "      <td>NaN</td>\n",
       "      <td>overland park</td>\n",
       "      <td>kansas,</td>\n",
       "      <td>None</td>\n",
       "    </tr>\n",
       "  </tbody>\n",
       "</table>\n",
       "<p>4576 rows × 6 columns</p>\n",
       "</div>"
      ],
      "text/plain": [
       "        userID                Location   Age               City        Region  \\\n",
       "18          19               weston, ,  14.0             weston             ,   \n",
       "90          91    toronto/newmarket, ,   NaN  toronto/newmarket             ,   \n",
       "311        312                lk, jlk,   NaN                 lk          jlk,   \n",
       "317        318            berlin, n/a,   NaN             berlin          n/a,   \n",
       "536        537      davis, california,   NaN              davis   california,   \n",
       "...        ...                     ...   ...                ...           ...   \n",
       "278624  278625               savona, ,  36.0             savona             ,   \n",
       "278651  278652             murrieta, ,   NaN           murrieta             ,   \n",
       "278697  278698     pasadena, maryland,   NaN           pasadena     maryland,   \n",
       "278716  278717  mayagüez, puerto rico,  53.0           mayagüez  puerto rico,   \n",
       "278776  278777  overland park, kansas,   NaN      overland park       kansas,   \n",
       "\n",
       "       State  \n",
       "18      None  \n",
       "90      None  \n",
       "311     None  \n",
       "317     None  \n",
       "536     None  \n",
       "...      ...  \n",
       "278624  None  \n",
       "278651  None  \n",
       "278697  None  \n",
       "278716  None  \n",
       "278776  None  \n",
       "\n",
       "[4576 rows x 6 columns]"
      ]
     },
     "execution_count": 36,
     "metadata": {},
     "output_type": "execute_result"
    }
   ],
   "source": [
    "# It would be possible to infer the region and state from similar entries in the dataset\n",
    "# but I believe that it is relatively insignificant with only a few of these entries\n",
    "users_data.loc[users_data.State.isna()]"
   ]
  },
  {
   "cell_type": "code",
   "execution_count": 37,
   "metadata": {},
   "outputs": [],
   "source": [
    "users_data.loc[users_data.State.isna(),\"State\"] = \"unknown\""
   ]
  },
  {
   "cell_type": "code",
   "execution_count": 38,
   "metadata": {},
   "outputs": [],
   "source": [
    "users_data.Region = users_data.Region.str.replace(\",\",\"unknown\")\n",
    "users_data.Region = users_data.Region.str.replace(\"n/a\",\"unknown\")"
   ]
  },
  {
   "cell_type": "code",
   "execution_count": 39,
   "metadata": {},
   "outputs": [],
   "source": [
    "# Removing location after splitting it\n",
    "users_data.drop([\"Location\"],axis = 1, inplace = True)"
   ]
  },
  {
   "cell_type": "code",
   "execution_count": 40,
   "metadata": {},
   "outputs": [
    {
     "data": {
      "text/html": [
       "<div>\n",
       "<style scoped>\n",
       "    .dataframe tbody tr th:only-of-type {\n",
       "        vertical-align: middle;\n",
       "    }\n",
       "\n",
       "    .dataframe tbody tr th {\n",
       "        vertical-align: top;\n",
       "    }\n",
       "\n",
       "    .dataframe thead th {\n",
       "        text-align: right;\n",
       "    }\n",
       "</style>\n",
       "<table border=\"1\" class=\"dataframe\">\n",
       "  <thead>\n",
       "    <tr style=\"text-align: right;\">\n",
       "      <th></th>\n",
       "      <th>userID</th>\n",
       "      <th>Age</th>\n",
       "      <th>City</th>\n",
       "      <th>Region</th>\n",
       "      <th>State</th>\n",
       "    </tr>\n",
       "  </thead>\n",
       "  <tbody>\n",
       "    <tr>\n",
       "      <th>0</th>\n",
       "      <td>1</td>\n",
       "      <td>NaN</td>\n",
       "      <td>nyc</td>\n",
       "      <td>new york</td>\n",
       "      <td>usa</td>\n",
       "    </tr>\n",
       "    <tr>\n",
       "      <th>1</th>\n",
       "      <td>2</td>\n",
       "      <td>18.0</td>\n",
       "      <td>stockton</td>\n",
       "      <td>california</td>\n",
       "      <td>usa</td>\n",
       "    </tr>\n",
       "    <tr>\n",
       "      <th>2</th>\n",
       "      <td>3</td>\n",
       "      <td>NaN</td>\n",
       "      <td>moscow</td>\n",
       "      <td>yukon territory</td>\n",
       "      <td>russia</td>\n",
       "    </tr>\n",
       "    <tr>\n",
       "      <th>3</th>\n",
       "      <td>4</td>\n",
       "      <td>17.0</td>\n",
       "      <td>porto</td>\n",
       "      <td>v.n.gaia</td>\n",
       "      <td>portugal</td>\n",
       "    </tr>\n",
       "    <tr>\n",
       "      <th>4</th>\n",
       "      <td>5</td>\n",
       "      <td>NaN</td>\n",
       "      <td>farnborough</td>\n",
       "      <td>hants</td>\n",
       "      <td>united kingdom</td>\n",
       "    </tr>\n",
       "    <tr>\n",
       "      <th>...</th>\n",
       "      <td>...</td>\n",
       "      <td>...</td>\n",
       "      <td>...</td>\n",
       "      <td>...</td>\n",
       "      <td>...</td>\n",
       "    </tr>\n",
       "    <tr>\n",
       "      <th>278853</th>\n",
       "      <td>278854</td>\n",
       "      <td>NaN</td>\n",
       "      <td>portland</td>\n",
       "      <td>oregon</td>\n",
       "      <td>usa</td>\n",
       "    </tr>\n",
       "    <tr>\n",
       "      <th>278854</th>\n",
       "      <td>278855</td>\n",
       "      <td>50.0</td>\n",
       "      <td>tacoma</td>\n",
       "      <td>washington</td>\n",
       "      <td>united kingdom</td>\n",
       "    </tr>\n",
       "    <tr>\n",
       "      <th>278855</th>\n",
       "      <td>278856</td>\n",
       "      <td>NaN</td>\n",
       "      <td>brampton</td>\n",
       "      <td>ontario</td>\n",
       "      <td>canada</td>\n",
       "    </tr>\n",
       "    <tr>\n",
       "      <th>278856</th>\n",
       "      <td>278857</td>\n",
       "      <td>NaN</td>\n",
       "      <td>knoxville</td>\n",
       "      <td>tennessee</td>\n",
       "      <td>usa</td>\n",
       "    </tr>\n",
       "    <tr>\n",
       "      <th>278857</th>\n",
       "      <td>278858</td>\n",
       "      <td>NaN</td>\n",
       "      <td>dublin</td>\n",
       "      <td>unknown</td>\n",
       "      <td>ireland</td>\n",
       "    </tr>\n",
       "  </tbody>\n",
       "</table>\n",
       "<p>278858 rows × 5 columns</p>\n",
       "</div>"
      ],
      "text/plain": [
       "        userID   Age         City           Region           State\n",
       "0            1   NaN          nyc         new york             usa\n",
       "1            2  18.0     stockton       california             usa\n",
       "2            3   NaN       moscow  yukon territory          russia\n",
       "3            4  17.0        porto         v.n.gaia        portugal\n",
       "4            5   NaN  farnborough            hants  united kingdom\n",
       "...        ...   ...          ...              ...             ...\n",
       "278853  278854   NaN     portland           oregon             usa\n",
       "278854  278855  50.0       tacoma       washington  united kingdom\n",
       "278855  278856   NaN     brampton          ontario          canada\n",
       "278856  278857   NaN    knoxville        tennessee             usa\n",
       "278857  278858   NaN       dublin          unknown         ireland\n",
       "\n",
       "[278858 rows x 5 columns]"
      ]
     },
     "execution_count": 40,
     "metadata": {},
     "output_type": "execute_result"
    }
   ],
   "source": [
    "users_data"
   ]
  },
  {
   "cell_type": "code",
   "execution_count": 41,
   "metadata": {},
   "outputs": [
    {
     "data": {
      "text/plain": [
       "6661"
      ]
     },
     "execution_count": 41,
     "metadata": {},
     "output_type": "execute_result"
    }
   ],
   "source": [
    "len(users_data.Region.unique())"
   ]
  },
  {
   "cell_type": "code",
   "execution_count": 42,
   "metadata": {},
   "outputs": [
    {
     "data": {
      "text/plain": [
       "<Axes: >"
      ]
     },
     "execution_count": 42,
     "metadata": {},
     "output_type": "execute_result"
    },
    {
     "data": {
      "image/png": "[encoded data removed]",
      "text/plain": [
       "<Figure size 640x480 with 1 Axes>"
      ]
     },
     "metadata": {},
     "output_type": "display_data"
    }
   ],
   "source": [
    "#removing nonsense age \n",
    "users_data.Age.hist(bins=100)"
   ]
  },
  {
   "cell_type": "code",
   "execution_count": 43,
   "metadata": {},
   "outputs": [
    {
     "data": {
      "text/html": [
       "<div>\n",
       "<style scoped>\n",
       "    .dataframe tbody tr th:only-of-type {\n",
       "        vertical-align: middle;\n",
       "    }\n",
       "\n",
       "    .dataframe tbody tr th {\n",
       "        vertical-align: top;\n",
       "    }\n",
       "\n",
       "    .dataframe thead th {\n",
       "        text-align: right;\n",
       "    }\n",
       "</style>\n",
       "<table border=\"1\" class=\"dataframe\">\n",
       "  <thead>\n",
       "    <tr style=\"text-align: right;\">\n",
       "      <th></th>\n",
       "      <th>userID</th>\n",
       "      <th>Age</th>\n",
       "      <th>City</th>\n",
       "      <th>Region</th>\n",
       "      <th>State</th>\n",
       "    </tr>\n",
       "  </thead>\n",
       "  <tbody>\n",
       "    <tr>\n",
       "      <th>0</th>\n",
       "      <td>1</td>\n",
       "      <td>NaN</td>\n",
       "      <td>nyc</td>\n",
       "      <td>new york</td>\n",
       "      <td>usa</td>\n",
       "    </tr>\n",
       "    <tr>\n",
       "      <th>1</th>\n",
       "      <td>2</td>\n",
       "      <td>18.0</td>\n",
       "      <td>stockton</td>\n",
       "      <td>california</td>\n",
       "      <td>usa</td>\n",
       "    </tr>\n",
       "    <tr>\n",
       "      <th>2</th>\n",
       "      <td>3</td>\n",
       "      <td>NaN</td>\n",
       "      <td>moscow</td>\n",
       "      <td>yukon territory</td>\n",
       "      <td>russia</td>\n",
       "    </tr>\n",
       "    <tr>\n",
       "      <th>3</th>\n",
       "      <td>4</td>\n",
       "      <td>17.0</td>\n",
       "      <td>porto</td>\n",
       "      <td>v.n.gaia</td>\n",
       "      <td>portugal</td>\n",
       "    </tr>\n",
       "    <tr>\n",
       "      <th>4</th>\n",
       "      <td>5</td>\n",
       "      <td>NaN</td>\n",
       "      <td>farnborough</td>\n",
       "      <td>hants</td>\n",
       "      <td>united kingdom</td>\n",
       "    </tr>\n",
       "    <tr>\n",
       "      <th>...</th>\n",
       "      <td>...</td>\n",
       "      <td>...</td>\n",
       "      <td>...</td>\n",
       "      <td>...</td>\n",
       "      <td>...</td>\n",
       "    </tr>\n",
       "    <tr>\n",
       "      <th>278853</th>\n",
       "      <td>278854</td>\n",
       "      <td>NaN</td>\n",
       "      <td>portland</td>\n",
       "      <td>oregon</td>\n",
       "      <td>usa</td>\n",
       "    </tr>\n",
       "    <tr>\n",
       "      <th>278854</th>\n",
       "      <td>278855</td>\n",
       "      <td>50.0</td>\n",
       "      <td>tacoma</td>\n",
       "      <td>washington</td>\n",
       "      <td>united kingdom</td>\n",
       "    </tr>\n",
       "    <tr>\n",
       "      <th>278855</th>\n",
       "      <td>278856</td>\n",
       "      <td>NaN</td>\n",
       "      <td>brampton</td>\n",
       "      <td>ontario</td>\n",
       "      <td>canada</td>\n",
       "    </tr>\n",
       "    <tr>\n",
       "      <th>278856</th>\n",
       "      <td>278857</td>\n",
       "      <td>NaN</td>\n",
       "      <td>knoxville</td>\n",
       "      <td>tennessee</td>\n",
       "      <td>usa</td>\n",
       "    </tr>\n",
       "    <tr>\n",
       "      <th>278857</th>\n",
       "      <td>278858</td>\n",
       "      <td>NaN</td>\n",
       "      <td>dublin</td>\n",
       "      <td>unknown</td>\n",
       "      <td>ireland</td>\n",
       "    </tr>\n",
       "  </tbody>\n",
       "</table>\n",
       "<p>278858 rows × 5 columns</p>\n",
       "</div>"
      ],
      "text/plain": [
       "        userID   Age         City           Region           State\n",
       "0            1   NaN          nyc         new york             usa\n",
       "1            2  18.0     stockton       california             usa\n",
       "2            3   NaN       moscow  yukon territory          russia\n",
       "3            4  17.0        porto         v.n.gaia        portugal\n",
       "4            5   NaN  farnborough            hants  united kingdom\n",
       "...        ...   ...          ...              ...             ...\n",
       "278853  278854   NaN     portland           oregon             usa\n",
       "278854  278855  50.0       tacoma       washington  united kingdom\n",
       "278855  278856   NaN     brampton          ontario          canada\n",
       "278856  278857   NaN    knoxville        tennessee             usa\n",
       "278857  278858   NaN       dublin          unknown         ireland\n",
       "\n",
       "[278858 rows x 5 columns]"
      ]
     },
     "execution_count": 43,
     "metadata": {},
     "output_type": "execute_result"
    }
   ],
   "source": [
    "users_data"
   ]
  },
  {
   "cell_type": "markdown",
   "metadata": {},
   "source": [
    "Here again questionable whether to treat the outliers same as the other NAs. But there is not that many of them so we will proceed with that for now"
   ]
  },
  {
   "cell_type": "code",
   "execution_count": 44,
   "metadata": {},
   "outputs": [],
   "source": [
    "users_data.loc[(users_data.Age > 100) | (users_data.Age < 2), \"Age\"] = np.nan\n"
   ]
  },
  {
   "cell_type": "code",
   "execution_count": 45,
   "metadata": {},
   "outputs": [
    {
     "data": {
      "text/html": [
       "<div>\n",
       "<style scoped>\n",
       "    .dataframe tbody tr th:only-of-type {\n",
       "        vertical-align: middle;\n",
       "    }\n",
       "\n",
       "    .dataframe tbody tr th {\n",
       "        vertical-align: top;\n",
       "    }\n",
       "\n",
       "    .dataframe thead th {\n",
       "        text-align: right;\n",
       "    }\n",
       "</style>\n",
       "<table border=\"1\" class=\"dataframe\">\n",
       "  <thead>\n",
       "    <tr style=\"text-align: right;\">\n",
       "      <th></th>\n",
       "      <th>userID</th>\n",
       "      <th>Age</th>\n",
       "      <th>City</th>\n",
       "      <th>Region</th>\n",
       "      <th>State</th>\n",
       "    </tr>\n",
       "  </thead>\n",
       "  <tbody>\n",
       "    <tr>\n",
       "      <th>0</th>\n",
       "      <td>1</td>\n",
       "      <td>NaN</td>\n",
       "      <td>nyc</td>\n",
       "      <td>new york</td>\n",
       "      <td>usa</td>\n",
       "    </tr>\n",
       "    <tr>\n",
       "      <th>1</th>\n",
       "      <td>2</td>\n",
       "      <td>18.0</td>\n",
       "      <td>stockton</td>\n",
       "      <td>california</td>\n",
       "      <td>usa</td>\n",
       "    </tr>\n",
       "    <tr>\n",
       "      <th>2</th>\n",
       "      <td>3</td>\n",
       "      <td>NaN</td>\n",
       "      <td>moscow</td>\n",
       "      <td>yukon territory</td>\n",
       "      <td>russia</td>\n",
       "    </tr>\n",
       "    <tr>\n",
       "      <th>3</th>\n",
       "      <td>4</td>\n",
       "      <td>17.0</td>\n",
       "      <td>porto</td>\n",
       "      <td>v.n.gaia</td>\n",
       "      <td>portugal</td>\n",
       "    </tr>\n",
       "    <tr>\n",
       "      <th>4</th>\n",
       "      <td>5</td>\n",
       "      <td>NaN</td>\n",
       "      <td>farnborough</td>\n",
       "      <td>hants</td>\n",
       "      <td>united kingdom</td>\n",
       "    </tr>\n",
       "    <tr>\n",
       "      <th>...</th>\n",
       "      <td>...</td>\n",
       "      <td>...</td>\n",
       "      <td>...</td>\n",
       "      <td>...</td>\n",
       "      <td>...</td>\n",
       "    </tr>\n",
       "    <tr>\n",
       "      <th>278853</th>\n",
       "      <td>278854</td>\n",
       "      <td>NaN</td>\n",
       "      <td>portland</td>\n",
       "      <td>oregon</td>\n",
       "      <td>usa</td>\n",
       "    </tr>\n",
       "    <tr>\n",
       "      <th>278854</th>\n",
       "      <td>278855</td>\n",
       "      <td>50.0</td>\n",
       "      <td>tacoma</td>\n",
       "      <td>washington</td>\n",
       "      <td>united kingdom</td>\n",
       "    </tr>\n",
       "    <tr>\n",
       "      <th>278855</th>\n",
       "      <td>278856</td>\n",
       "      <td>NaN</td>\n",
       "      <td>brampton</td>\n",
       "      <td>ontario</td>\n",
       "      <td>canada</td>\n",
       "    </tr>\n",
       "    <tr>\n",
       "      <th>278856</th>\n",
       "      <td>278857</td>\n",
       "      <td>NaN</td>\n",
       "      <td>knoxville</td>\n",
       "      <td>tennessee</td>\n",
       "      <td>usa</td>\n",
       "    </tr>\n",
       "    <tr>\n",
       "      <th>278857</th>\n",
       "      <td>278858</td>\n",
       "      <td>NaN</td>\n",
       "      <td>dublin</td>\n",
       "      <td>unknown</td>\n",
       "      <td>ireland</td>\n",
       "    </tr>\n",
       "  </tbody>\n",
       "</table>\n",
       "<p>278858 rows × 5 columns</p>\n",
       "</div>"
      ],
      "text/plain": [
       "        userID   Age         City           Region           State\n",
       "0            1   NaN          nyc         new york             usa\n",
       "1            2  18.0     stockton       california             usa\n",
       "2            3   NaN       moscow  yukon territory          russia\n",
       "3            4  17.0        porto         v.n.gaia        portugal\n",
       "4            5   NaN  farnborough            hants  united kingdom\n",
       "...        ...   ...          ...              ...             ...\n",
       "278853  278854   NaN     portland           oregon             usa\n",
       "278854  278855  50.0       tacoma       washington  united kingdom\n",
       "278855  278856   NaN     brampton          ontario          canada\n",
       "278856  278857   NaN    knoxville        tennessee             usa\n",
       "278857  278858   NaN       dublin          unknown         ireland\n",
       "\n",
       "[278858 rows x 5 columns]"
      ]
     },
     "execution_count": 45,
     "metadata": {},
     "output_type": "execute_result"
    }
   ],
   "source": [
    "users_data"
   ]
  },
  {
   "cell_type": "code",
   "execution_count": 46,
   "metadata": {},
   "outputs": [
    {
     "data": {
      "text/plain": [
       "userID         0\n",
       "Age       111832\n",
       "City           0\n",
       "Region         0\n",
       "State          0\n",
       "dtype: int64"
      ]
     },
     "execution_count": 46,
     "metadata": {},
     "output_type": "execute_result"
    }
   ],
   "source": [
    "# Almost half of the ages are missing in the dataset => mean imputing might be suboptimal\n",
    "users_data.isna().sum()\n",
    "# For now skipping this step because we will use the user-item matrix to do K-means imputing based on the books the user reads"
   ]
  },
  {
   "cell_type": "markdown",
   "metadata": {},
   "source": [
    "# Creating User-item matrix to determine age with KNN"
   ]
  },
  {
   "cell_type": "code",
   "execution_count": 47,
   "metadata": {},
   "outputs": [],
   "source": [
    "# Mergin books and Users to ratings\n",
    "#there are apparently some missing values in Users that are in the ratings => left join to not loose these information \n",
    "combined_data = ratings_data.merge(users_data, on = \"userID\", how=\"left\")"
   ]
  },
  {
   "cell_type": "code",
   "execution_count": 48,
   "metadata": {},
   "outputs": [
    {
     "data": {
      "text/html": [
       "<div>\n",
       "<style scoped>\n",
       "    .dataframe tbody tr th:only-of-type {\n",
       "        vertical-align: middle;\n",
       "    }\n",
       "\n",
       "    .dataframe tbody tr th {\n",
       "        vertical-align: top;\n",
       "    }\n",
       "\n",
       "    .dataframe thead th {\n",
       "        text-align: right;\n",
       "    }\n",
       "</style>\n",
       "<table border=\"1\" class=\"dataframe\">\n",
       "  <thead>\n",
       "    <tr style=\"text-align: right;\">\n",
       "      <th></th>\n",
       "      <th>userID</th>\n",
       "      <th>ISBN</th>\n",
       "      <th>bookRating</th>\n",
       "      <th>Age</th>\n",
       "      <th>City</th>\n",
       "      <th>Region</th>\n",
       "      <th>State</th>\n",
       "    </tr>\n",
       "  </thead>\n",
       "  <tbody>\n",
       "    <tr>\n",
       "      <th>0</th>\n",
       "      <td>276725</td>\n",
       "      <td>034545104X</td>\n",
       "      <td>0</td>\n",
       "      <td>NaN</td>\n",
       "      <td>tyler</td>\n",
       "      <td>texas</td>\n",
       "      <td>usa</td>\n",
       "    </tr>\n",
       "    <tr>\n",
       "      <th>1</th>\n",
       "      <td>276726</td>\n",
       "      <td>0155061224</td>\n",
       "      <td>5</td>\n",
       "      <td>NaN</td>\n",
       "      <td>seattle</td>\n",
       "      <td>washington</td>\n",
       "      <td>usa</td>\n",
       "    </tr>\n",
       "    <tr>\n",
       "      <th>2</th>\n",
       "      <td>276727</td>\n",
       "      <td>0446520802</td>\n",
       "      <td>0</td>\n",
       "      <td>16.0</td>\n",
       "      <td>h</td>\n",
       "      <td>new south wales</td>\n",
       "      <td>australia</td>\n",
       "    </tr>\n",
       "    <tr>\n",
       "      <th>3</th>\n",
       "      <td>276729</td>\n",
       "      <td>052165615X</td>\n",
       "      <td>3</td>\n",
       "      <td>16.0</td>\n",
       "      <td>rijeka</td>\n",
       "      <td>unknown</td>\n",
       "      <td>croatia</td>\n",
       "    </tr>\n",
       "    <tr>\n",
       "      <th>4</th>\n",
       "      <td>276729</td>\n",
       "      <td>0521795028</td>\n",
       "      <td>6</td>\n",
       "      <td>16.0</td>\n",
       "      <td>rijeka</td>\n",
       "      <td>unknown</td>\n",
       "      <td>croatia</td>\n",
       "    </tr>\n",
       "    <tr>\n",
       "      <th>...</th>\n",
       "      <td>...</td>\n",
       "      <td>...</td>\n",
       "      <td>...</td>\n",
       "      <td>...</td>\n",
       "      <td>...</td>\n",
       "      <td>...</td>\n",
       "      <td>...</td>\n",
       "    </tr>\n",
       "    <tr>\n",
       "      <th>1149775</th>\n",
       "      <td>276704</td>\n",
       "      <td>1563526298</td>\n",
       "      <td>9</td>\n",
       "      <td>NaN</td>\n",
       "      <td>cedar park</td>\n",
       "      <td>texas</td>\n",
       "      <td>usa</td>\n",
       "    </tr>\n",
       "    <tr>\n",
       "      <th>1149776</th>\n",
       "      <td>276706</td>\n",
       "      <td>0679447156</td>\n",
       "      <td>0</td>\n",
       "      <td>18.0</td>\n",
       "      <td>quebec</td>\n",
       "      <td>quebec</td>\n",
       "      <td>canada</td>\n",
       "    </tr>\n",
       "    <tr>\n",
       "      <th>1149777</th>\n",
       "      <td>276709</td>\n",
       "      <td>0515107662</td>\n",
       "      <td>10</td>\n",
       "      <td>38.0</td>\n",
       "      <td>mannington</td>\n",
       "      <td>west virginia</td>\n",
       "      <td>usa</td>\n",
       "    </tr>\n",
       "    <tr>\n",
       "      <th>1149778</th>\n",
       "      <td>276721</td>\n",
       "      <td>0590442449</td>\n",
       "      <td>10</td>\n",
       "      <td>14.0</td>\n",
       "      <td>providence</td>\n",
       "      <td>rhode island</td>\n",
       "      <td>usa</td>\n",
       "    </tr>\n",
       "    <tr>\n",
       "      <th>1149779</th>\n",
       "      <td>276723</td>\n",
       "      <td>05162443314</td>\n",
       "      <td>8</td>\n",
       "      <td>12.0</td>\n",
       "      <td>san antonio</td>\n",
       "      <td>texas</td>\n",
       "      <td>usa</td>\n",
       "    </tr>\n",
       "  </tbody>\n",
       "</table>\n",
       "<p>1149780 rows × 7 columns</p>\n",
       "</div>"
      ],
      "text/plain": [
       "         userID         ISBN  bookRating   Age         City           Region  \\\n",
       "0        276725   034545104X           0   NaN        tyler            texas   \n",
       "1        276726   0155061224           5   NaN      seattle       washington   \n",
       "2        276727   0446520802           0  16.0            h  new south wales   \n",
       "3        276729   052165615X           3  16.0       rijeka          unknown   \n",
       "4        276729   0521795028           6  16.0       rijeka          unknown   \n",
       "...         ...          ...         ...   ...          ...              ...   \n",
       "1149775  276704   1563526298           9   NaN   cedar park            texas   \n",
       "1149776  276706   0679447156           0  18.0       quebec           quebec   \n",
       "1149777  276709   0515107662          10  38.0   mannington    west virginia   \n",
       "1149778  276721   0590442449          10  14.0   providence     rhode island   \n",
       "1149779  276723  05162443314           8  12.0  san antonio            texas   \n",
       "\n",
       "             State  \n",
       "0              usa  \n",
       "1              usa  \n",
       "2        australia  \n",
       "3          croatia  \n",
       "4          croatia  \n",
       "...            ...  \n",
       "1149775        usa  \n",
       "1149776     canada  \n",
       "1149777        usa  \n",
       "1149778        usa  \n",
       "1149779        usa  \n",
       "\n",
       "[1149780 rows x 7 columns]"
      ]
     },
     "execution_count": 48,
     "metadata": {},
     "output_type": "execute_result"
    }
   ],
   "source": [
    "combined_data"
   ]
  },
  {
   "cell_type": "code",
   "execution_count": 49,
   "metadata": {},
   "outputs": [
    {
     "data": {
      "text/plain": [
       "userID             0\n",
       "ISBN               0\n",
       "bookRating         0\n",
       "Age           314432\n",
       "City               0\n",
       "Region             0\n",
       "State              0\n",
       "dtype: int64"
      ]
     },
     "execution_count": 49,
     "metadata": {},
     "output_type": "execute_result"
    }
   ],
   "source": [
    "combined_data.isna().sum()"
   ]
  },
  {
   "cell_type": "code",
   "execution_count": 50,
   "metadata": {},
   "outputs": [],
   "source": [
    "combined_data = combined_data.merge(books_data, on = \"ISBN\")"
   ]
  },
  {
   "cell_type": "code",
   "execution_count": 51,
   "metadata": {},
   "outputs": [
    {
     "data": {
      "text/plain": [
       "userID                    0\n",
       "ISBN                      0\n",
       "bookRating                0\n",
       "Age                  281734\n",
       "City                      0\n",
       "Region                    0\n",
       "State                     0\n",
       "bookTitle                 0\n",
       "bookAuthor                0\n",
       "yearOfPublication         0\n",
       "publisher                 0\n",
       "dtype: int64"
      ]
     },
     "execution_count": 51,
     "metadata": {},
     "output_type": "execute_result"
    }
   ],
   "source": [
    "#there seem to be some rating that do not correspond to a book ISBN\n",
    "#I had to change second merge to inner\n",
    "combined_data.isna().sum()"
   ]
  },
  {
   "cell_type": "code",
   "execution_count": 52,
   "metadata": {},
   "outputs": [
    {
     "name": "stdout",
     "output_type": "stream",
     "text": [
      "<class 'pandas.core.frame.DataFrame'>\n",
      "RangeIndex: 1031136 entries, 0 to 1031135\n",
      "Data columns (total 11 columns):\n",
      " #   Column             Non-Null Count    Dtype  \n",
      "---  ------             --------------    -----  \n",
      " 0   userID             1031136 non-null  int64  \n",
      " 1   ISBN               1031136 non-null  object \n",
      " 2   bookRating         1031136 non-null  int64  \n",
      " 3   Age                749402 non-null   float64\n",
      " 4   City               1031136 non-null  object \n",
      " 5   Region             1031136 non-null  object \n",
      " 6   State              1031136 non-null  object \n",
      " 7   bookTitle          1031136 non-null  object \n",
      " 8   bookAuthor         1031136 non-null  object \n",
      " 9   yearOfPublication  1031136 non-null  float64\n",
      " 10  publisher          1031136 non-null  object \n",
      "dtypes: float64(2), int64(2), object(7)\n",
      "memory usage: 86.5+ MB\n"
     ]
    }
   ],
   "source": [
    "combined_data.info()"
   ]
  },
  {
   "cell_type": "code",
   "execution_count": 53,
   "metadata": {},
   "outputs": [],
   "source": [
    "#user_item = combined_data.pivot_table(index = \"userID\", columns=\"bookTitle\",values=\"bookRating\",fill_value=0)\n",
    "#the dataset seems to be too big for pivot"
   ]
  },
  {
   "cell_type": "code",
   "execution_count": 54,
   "metadata": {},
   "outputs": [
    {
     "data": {
      "text/plain": [
       "1031136"
      ]
     },
     "execution_count": 54,
     "metadata": {},
     "output_type": "execute_result"
    }
   ],
   "source": [
    "len(combined_data)"
   ]
  },
  {
   "cell_type": "code",
   "execution_count": 55,
   "metadata": {},
   "outputs": [
    {
     "data": {
      "text/plain": [
       "Index([     2,      8,      9,     10,     12,     14,     16,     17,     19,\n",
       "           20,\n",
       "       ...\n",
       "       278832, 278836, 278838, 278843, 278844, 278846, 278849, 278851, 278852,\n",
       "       278854],\n",
       "      dtype='int64', length=92106)"
      ]
     },
     "execution_count": 55,
     "metadata": {},
     "output_type": "execute_result"
    }
   ],
   "source": [
    "combined_data.userID.astype(\"category\").cat.categories"
   ]
  },
  {
   "cell_type": "code",
   "execution_count": 56,
   "metadata": {},
   "outputs": [],
   "source": [
    "combined_data.userID = combined_data.userID.astype(\"category\")\n",
    "combined_data.bookTitle = combined_data.bookTitle.astype(\"category\")"
   ]
  },
  {
   "cell_type": "code",
   "execution_count": 57,
   "metadata": {},
   "outputs": [
    {
     "name": "stdout",
     "output_type": "stream",
     "text": [
      "<class 'pandas.core.frame.DataFrame'>\n",
      "RangeIndex: 1031136 entries, 0 to 1031135\n",
      "Data columns (total 11 columns):\n",
      " #   Column             Non-Null Count    Dtype   \n",
      "---  ------             --------------    -----   \n",
      " 0   userID             1031136 non-null  category\n",
      " 1   ISBN               1031136 non-null  object  \n",
      " 2   bookRating         1031136 non-null  int64   \n",
      " 3   Age                749402 non-null   float64 \n",
      " 4   City               1031136 non-null  object  \n",
      " 5   Region             1031136 non-null  object  \n",
      " 6   State              1031136 non-null  object  \n",
      " 7   bookTitle          1031136 non-null  category\n",
      " 8   bookAuthor         1031136 non-null  object  \n",
      " 9   yearOfPublication  1031136 non-null  float64 \n",
      " 10  publisher          1031136 non-null  object  \n",
      "dtypes: category(2), float64(2), int64(1), object(6)\n",
      "memory usage: 91.3+ MB\n"
     ]
    }
   ],
   "source": [
    "combined_data.info()"
   ]
  },
  {
   "cell_type": "code",
   "execution_count": 58,
   "metadata": {},
   "outputs": [
    {
     "data": {
      "text/plain": [
       "count     1031136\n",
       "unique      92106\n",
       "top         11676\n",
       "freq        11144\n",
       "Name: userID, dtype: int64"
      ]
     },
     "execution_count": 58,
     "metadata": {},
     "output_type": "execute_result"
    }
   ],
   "source": [
    "combined_data.userID.describe()"
   ]
  },
  {
   "cell_type": "code",
   "execution_count": 59,
   "metadata": {},
   "outputs": [],
   "source": [
    "users = combined_data[\"userID\"].unique()\n",
    "book_titles = combined_data[\"bookTitle\"].unique()\n",
    "shape = (len(users), len(book_titles))\n",
    "coo = scipy.sparse.coo_matrix((combined_data.bookRating, \n",
    "                    (combined_data.userID.cat.codes, \n",
    "                combined_data.bookTitle.cat.codes)), shape=shape)\n",
    "csr = coo.tocsr()\n"
   ]
  },
  {
   "cell_type": "code",
   "execution_count": 60,
   "metadata": {},
   "outputs": [
    {
     "name": "stdout",
     "output_type": "stream",
     "text": [
      "Number of unique users:  92106\n",
      "Number of unique book titles:  241071\n"
     ]
    }
   ],
   "source": [
    "print(\"Number of unique users: \", len(users))\n",
    "print(\"Number of unique book titles: \", len(book_titles))"
   ]
  },
  {
   "cell_type": "code",
   "execution_count": 61,
   "metadata": {},
   "outputs": [
    {
     "data": {
      "text/html": [
       "<div>\n",
       "<style scoped>\n",
       "    .dataframe tbody tr th:only-of-type {\n",
       "        vertical-align: middle;\n",
       "    }\n",
       "\n",
       "    .dataframe tbody tr th {\n",
       "        vertical-align: top;\n",
       "    }\n",
       "\n",
       "    .dataframe thead th {\n",
       "        text-align: right;\n",
       "    }\n",
       "</style>\n",
       "<table border=\"1\" class=\"dataframe\">\n",
       "  <thead>\n",
       "    <tr style=\"text-align: right;\">\n",
       "      <th></th>\n",
       "      <th>userID</th>\n",
       "      <th>ISBN</th>\n",
       "      <th>bookRating</th>\n",
       "      <th>Age</th>\n",
       "      <th>City</th>\n",
       "      <th>Region</th>\n",
       "      <th>State</th>\n",
       "      <th>bookTitle</th>\n",
       "      <th>bookAuthor</th>\n",
       "      <th>yearOfPublication</th>\n",
       "      <th>publisher</th>\n",
       "    </tr>\n",
       "  </thead>\n",
       "  <tbody>\n",
       "    <tr>\n",
       "      <th>0</th>\n",
       "      <td>276725</td>\n",
       "      <td>034545104X</td>\n",
       "      <td>0</td>\n",
       "      <td>NaN</td>\n",
       "      <td>tyler</td>\n",
       "      <td>texas</td>\n",
       "      <td>usa</td>\n",
       "      <td>Flesh Tones: A Novel</td>\n",
       "      <td>M. J. Rose</td>\n",
       "      <td>2002.0</td>\n",
       "      <td>Ballantine Books</td>\n",
       "    </tr>\n",
       "    <tr>\n",
       "      <th>1</th>\n",
       "      <td>276726</td>\n",
       "      <td>0155061224</td>\n",
       "      <td>5</td>\n",
       "      <td>NaN</td>\n",
       "      <td>seattle</td>\n",
       "      <td>washington</td>\n",
       "      <td>usa</td>\n",
       "      <td>Rites of Passage</td>\n",
       "      <td>Judith Rae</td>\n",
       "      <td>2001.0</td>\n",
       "      <td>Heinle</td>\n",
       "    </tr>\n",
       "    <tr>\n",
       "      <th>2</th>\n",
       "      <td>276727</td>\n",
       "      <td>0446520802</td>\n",
       "      <td>0</td>\n",
       "      <td>16.0</td>\n",
       "      <td>h</td>\n",
       "      <td>new south wales</td>\n",
       "      <td>australia</td>\n",
       "      <td>The Notebook</td>\n",
       "      <td>Nicholas Sparks</td>\n",
       "      <td>1996.0</td>\n",
       "      <td>Warner Books</td>\n",
       "    </tr>\n",
       "    <tr>\n",
       "      <th>3</th>\n",
       "      <td>276729</td>\n",
       "      <td>052165615X</td>\n",
       "      <td>3</td>\n",
       "      <td>16.0</td>\n",
       "      <td>rijeka</td>\n",
       "      <td>unknown</td>\n",
       "      <td>croatia</td>\n",
       "      <td>Help!: Level 1</td>\n",
       "      <td>Philip Prowse</td>\n",
       "      <td>1999.0</td>\n",
       "      <td>Cambridge University Press</td>\n",
       "    </tr>\n",
       "    <tr>\n",
       "      <th>4</th>\n",
       "      <td>276729</td>\n",
       "      <td>0521795028</td>\n",
       "      <td>6</td>\n",
       "      <td>16.0</td>\n",
       "      <td>rijeka</td>\n",
       "      <td>unknown</td>\n",
       "      <td>croatia</td>\n",
       "      <td>The Amsterdam Connection : Level 4 (Cambridge English Readers)</td>\n",
       "      <td>Sue Leather</td>\n",
       "      <td>2001.0</td>\n",
       "      <td>Cambridge University Press</td>\n",
       "    </tr>\n",
       "  </tbody>\n",
       "</table>\n",
       "</div>"
      ],
      "text/plain": [
       "   userID        ISBN  bookRating   Age     City           Region      State  \\\n",
       "0  276725  034545104X           0   NaN    tyler            texas        usa   \n",
       "1  276726  0155061224           5   NaN  seattle       washington        usa   \n",
       "2  276727  0446520802           0  16.0        h  new south wales  australia   \n",
       "3  276729  052165615X           3  16.0   rijeka          unknown    croatia   \n",
       "4  276729  0521795028           6  16.0   rijeka          unknown    croatia   \n",
       "\n",
       "                                                        bookTitle  \\\n",
       "0                                            Flesh Tones: A Novel   \n",
       "1                                                Rites of Passage   \n",
       "2                                                    The Notebook   \n",
       "3                                                  Help!: Level 1   \n",
       "4  The Amsterdam Connection : Level 4 (Cambridge English Readers)   \n",
       "\n",
       "        bookAuthor  yearOfPublication                   publisher  \n",
       "0       M. J. Rose             2002.0            Ballantine Books  \n",
       "1       Judith Rae             2001.0                      Heinle  \n",
       "2  Nicholas Sparks             1996.0                Warner Books  \n",
       "3    Philip Prowse             1999.0  Cambridge University Press  \n",
       "4      Sue Leather             2001.0  Cambridge University Press  "
      ]
     },
     "execution_count": 61,
     "metadata": {},
     "output_type": "execute_result"
    }
   ],
   "source": [
    "combined_data.head()"
   ]
  },
  {
   "cell_type": "code",
   "execution_count": 62,
   "metadata": {},
   "outputs": [],
   "source": [
    "#to speed up the computation we will compute the age for each person in that made a review\n",
    "combined_no_duplicates = combined_data.drop_duplicates(subset=[\"userID\"])"
   ]
  },
  {
   "cell_type": "code",
   "execution_count": 63,
   "metadata": {},
   "outputs": [
    {
     "name": "stdout",
     "output_type": "stream",
     "text": [
      "<class 'pandas.core.frame.DataFrame'>\n",
      "Index: 92106 entries, 0 to 1031135\n",
      "Data columns (total 11 columns):\n",
      " #   Column             Non-Null Count  Dtype   \n",
      "---  ------             --------------  -----   \n",
      " 0   userID             92106 non-null  category\n",
      " 1   ISBN               92106 non-null  object  \n",
      " 2   bookRating         92106 non-null  int64   \n",
      " 3   Age                53566 non-null  float64 \n",
      " 4   City               92106 non-null  object  \n",
      " 5   Region             92106 non-null  object  \n",
      " 6   State              92106 non-null  object  \n",
      " 7   bookTitle          92106 non-null  category\n",
      " 8   bookAuthor         92106 non-null  object  \n",
      " 9   yearOfPublication  92106 non-null  float64 \n",
      " 10  publisher          92106 non-null  object  \n",
      "dtypes: category(2), float64(2), int64(1), object(6)\n",
      "memory usage: 20.3+ MB\n"
     ]
    }
   ],
   "source": [
    "combined_no_duplicates.info()"
   ]
  },
  {
   "cell_type": "code",
   "execution_count": 64,
   "metadata": {},
   "outputs": [
    {
     "name": "stderr",
     "output_type": "stream",
     "text": [
      "/tmp/ipykernel_130693/352610953.py:6: SettingWithCopyWarning: \n",
      "A value is trying to be set on a copy of a slice from a DataFrame.\n",
      "Try using .loc[row_indexer,col_indexer] = value instead\n",
      "\n",
      "See the caveats in the documentation: https://pandas.pydata.org/pandas-docs/stable/user_guide/indexing.html#returning-a-view-versus-a-copy\n",
      "  combined_no_duplicates.Age = combined_no_duplicates.apply(Pipeline.knn_age_imputing, axis = 1,\n"
     ]
    }
   ],
   "source": [
    "category_to_code = {category: code for code, category in enumerate(combined_data.userID.cat.categories)}\n",
    "#prefitting the model to pass it to the imputer (does not help much since inference in KNN is time heavy)\n",
    "nn_model = NearestNeighbors(n_neighbors=1, algorithm=\"auto\",\n",
    "                            metric=\"cosine\")\n",
    "nn_model.fit(csr)\n",
    "combined_no_duplicates.Age = combined_no_duplicates.apply(Pipeline.knn_age_imputing, axis = 1, \n",
    "    args=(csr, combined_data.userID.cat.categories, users_data, category_to_code, nn_model))"
   ]
  },
  {
   "cell_type": "code",
   "execution_count": 71,
   "metadata": {},
   "outputs": [
    {
     "data": {
      "text/plain": [
       "0            34\n",
       "1            34\n",
       "2          16.0\n",
       "3          16.0\n",
       "5          37.0\n",
       "           ... \n",
       "1031107    43.0\n",
       "1031116      34\n",
       "1031133    18.0\n",
       "1031134    38.0\n",
       "1031135    14.0\n",
       "Name: Age, Length: 92106, dtype: object"
      ]
     },
     "execution_count": 71,
     "metadata": {},
     "output_type": "execute_result"
    }
   ],
   "source": [
    "combined_no_duplicates.loc[combined_no_duplicates.isna().any(axis = 1)]\n",
    "#imputing mean to the missing values\n",
    "combined_no_duplicates.loc[:,\"Age\"].fillna(str(int(users_data.Age.mean())))"
   ]
  },
  {
   "cell_type": "code",
   "execution_count": 76,
   "metadata": {},
   "outputs": [
    {
     "data": {
      "text/html": [
       "<div>\n",
       "<style scoped>\n",
       "    .dataframe tbody tr th:only-of-type {\n",
       "        vertical-align: middle;\n",
       "    }\n",
       "\n",
       "    .dataframe tbody tr th {\n",
       "        vertical-align: top;\n",
       "    }\n",
       "\n",
       "    .dataframe thead th {\n",
       "        text-align: right;\n",
       "    }\n",
       "</style>\n",
       "<table border=\"1\" class=\"dataframe\">\n",
       "  <thead>\n",
       "    <tr style=\"text-align: right;\">\n",
       "      <th></th>\n",
       "      <th>userID</th>\n",
       "      <th>ISBN</th>\n",
       "      <th>bookRating</th>\n",
       "      <th>Age</th>\n",
       "      <th>City</th>\n",
       "      <th>Region</th>\n",
       "      <th>State</th>\n",
       "      <th>bookTitle</th>\n",
       "      <th>bookAuthor</th>\n",
       "      <th>yearOfPublication</th>\n",
       "      <th>publisher</th>\n",
       "    </tr>\n",
       "  </thead>\n",
       "  <tbody>\n",
       "  </tbody>\n",
       "</table>\n",
       "</div>"
      ],
      "text/plain": [
       "Empty DataFrame\n",
       "Columns: [userID, ISBN, bookRating, Age, City, Region, State, bookTitle, bookAuthor, yearOfPublication, publisher]\n",
       "Index: []"
      ]
     },
     "execution_count": 76,
     "metadata": {},
     "output_type": "execute_result"
    }
   ],
   "source": [
    "combined_no_duplicates.loc[combined_no_duplicates.isna().any(axis = 1)]"
   ]
  },
  {
   "cell_type": "code",
   "execution_count": 83,
   "metadata": {},
   "outputs": [],
   "source": [
    "age_mapping = dict(zip(combined_no_duplicates.userID,combined_no_duplicates.Age))"
   ]
  },
  {
   "cell_type": "code",
   "execution_count": 88,
   "metadata": {},
   "outputs": [],
   "source": [
    "combined_data.Age = combined_data.Age.fillna(combined_data.userID.map(age_mapping))"
   ]
  },
  {
   "cell_type": "code",
   "execution_count": 90,
   "metadata": {},
   "outputs": [
    {
     "data": {
      "text/plain": [
       "userID               0\n",
       "ISBN                 0\n",
       "bookRating           0\n",
       "Age                  0\n",
       "City                 0\n",
       "Region               0\n",
       "State                0\n",
       "bookTitle            0\n",
       "bookAuthor           0\n",
       "yearOfPublication    0\n",
       "publisher            0\n",
       "dtype: int64"
      ]
     },
     "execution_count": 90,
     "metadata": {},
     "output_type": "execute_result"
    }
   ],
   "source": [
    "#The dataset is completely clean and we can save it \n",
    "combined_data.isna().sum()"
   ]
  },
  {
   "cell_type": "code",
   "execution_count": 91,
   "metadata": {},
   "outputs": [],
   "source": [
    "# serialize the data\n",
    "combined_data.to_csv(\"./../data/merged_data.csv\")"
   ]
  },
  {
   "cell_type": "code",
   "execution_count": 9,
   "metadata": {},
   "outputs": [],
   "source": [
    "combined_data = pd.read_csv(\"./../data/merged_data.csv\")\n",
    "combined_data.userID = combined_data.userID.astype(\"category\")\n",
    "combined_data.bookTitle = combined_data.bookTitle.astype(\"category\")"
   ]
  },
  {
   "cell_type": "code",
   "execution_count": 10,
   "metadata": {},
   "outputs": [
    {
     "name": "stdout",
     "output_type": "stream",
     "text": [
      "<class 'pandas.core.frame.DataFrame'>\n",
      "RangeIndex: 1031136 entries, 0 to 1031135\n",
      "Data columns (total 12 columns):\n",
      " #   Column             Non-Null Count    Dtype   \n",
      "---  ------             --------------    -----   \n",
      " 0   Unnamed: 0         1031136 non-null  int64   \n",
      " 1   userID             1031136 non-null  category\n",
      " 2   ISBN               1031136 non-null  object  \n",
      " 3   bookRating         1031136 non-null  int64   \n",
      " 4   Age                1031136 non-null  float64 \n",
      " 5   City               1017034 non-null  object  \n",
      " 6   Region             1027535 non-null  object  \n",
      " 7   State              1019945 non-null  object  \n",
      " 8   bookTitle          1031136 non-null  category\n",
      " 9   bookAuthor         1031136 non-null  object  \n",
      " 10  yearOfPublication  1031136 non-null  float64 \n",
      " 11  publisher          1031136 non-null  object  \n",
      "dtypes: category(2), float64(2), int64(2), object(6)\n",
      "memory usage: 99.2+ MB\n"
     ]
    }
   ],
   "source": [
    "combined_data.info()"
   ]
  },
  {
   "cell_type": "code",
   "execution_count": 2,
   "metadata": {},
   "outputs": [],
   "source": [
    "nearest_books = Pipeline.create_item_item_similarity_mapping()"
   ]
  },
  {
   "cell_type": "code",
   "execution_count": 29,
   "metadata": {},
   "outputs": [
    {
     "data": {
      "text/plain": [
       "array([[ 96199,  30548,  98587,  17127, 117152],\n",
       "       [160714, 160716, 160712, 160715, 160711],\n",
       "       [160714, 160716, 160712, 160715, 160711],\n",
       "       ...,\n",
       "       [231304, 241068, 160713, 160714, 160711],\n",
       "       [ 50994,  61038,  47867, 157627, 224890],\n",
       "       [113349,  18063, 241070, 114885,  67446]])"
      ]
     },
     "execution_count": 29,
     "metadata": {},
     "output_type": "execute_result"
    }
   ],
   "source": [
    "nearest_books"
   ]
  },
  {
   "cell_type": "code",
   "execution_count": 30,
   "metadata": {},
   "outputs": [],
   "source": [
    "cat_nearest_books = pd.Categorical.from_codes(nearest_books,\n",
    "                                         categories=combined_data.bookTitle.cat.categories)"
   ]
  },
  {
   "cell_type": "code",
   "execution_count": 32,
   "metadata": {},
   "outputs": [
    {
     "data": {
      "text/plain": [
       "['Jessi and the Troublemaker (Baby-Sitters Club (Paperback))', 'Call of the Wild &amp; White Fang (Wordsworth Classics)', 'Karens School Surprise (Baby-Sitters Little Sister, 77)', 'Astounding Optical Illusions', 'Mary Anne and Miss Priss (Baby-Sitters Club (Paperback))']\n",
       "Categories (241071, object): [' A Light in the Storm: The Civil War Diary of Amelia Martin, Fenwick Island, Delaware, 1861 (Dear America)', ' Always Have Popsicles', ' Apple Magic (The Collector's series)', ' Ask Lily (Young Women of Faith: Lily Series, Book 5)', ..., 'Ã?Â?rger mit Produkt X. Roman.', 'Ã?Â?sterlich leben.', 'Ã?Â?stlich der Berge.', 'Ã?Â?thique en toc']"
      ]
     },
     "execution_count": 32,
     "metadata": {},
     "output_type": "execute_result"
    }
   ],
   "source": [
    "cat_nearest_books[0]"
   ]
  },
  {
   "cell_type": "code",
   "execution_count": 56,
   "metadata": {},
   "outputs": [],
   "source": [
    "item_mapping = {title:list(similar.to_numpy()) for title, similar in zip(combined_data.bookTitle.unique(),cat_nearest_books)}"
   ]
  },
  {
   "cell_type": "code",
   "execution_count": 57,
   "metadata": {},
   "outputs": [
    {
     "data": {
      "text/plain": [
       "241071"
      ]
     },
     "execution_count": 57,
     "metadata": {},
     "output_type": "execute_result"
    }
   ],
   "source": [
    "len(item_mapping)"
   ]
  },
  {
   "cell_type": "code",
   "execution_count": 60,
   "metadata": {},
   "outputs": [
    {
     "data": {
      "text/plain": [
       "[\"Simon'S Lady (Harlequin Historical, No 229)\",\n",
       " \"Simon's Family\",\n",
       " 'Simon says;: The sights and sounds of the swing era, 1935-1955',\n",
       " \"Simon's Book\",\n",
       " \"Simon et l'enfant\"]"
      ]
     },
     "execution_count": 60,
     "metadata": {},
     "output_type": "execute_result"
    }
   ],
   "source": [
    "item_mapping[\"Harry Potter and the Sorcerer's Stone (Harry Potter (Paperback))\"]"
   ]
  },
  {
   "cell_type": "code",
   "execution_count": 26,
   "metadata": {},
   "outputs": [
    {
     "data": {
      "text/plain": [
       "241071"
      ]
     },
     "execution_count": 26,
     "metadata": {},
     "output_type": "execute_result"
    }
   ],
   "source": [
    "len(cat_nearest_books)"
   ]
  }
 ],
 "metadata": {
  "kernelspec": {
   "display_name": "Book recommendation venv",
   "language": "python",
   "name": "book_recommendation"
  },
  "language_info": {
   "codemirror_mode": {
    "name": "ipython",
    "version": 3
   },
   "file_extension": ".py",
   "mimetype": "text/x-python",
   "name": "python",
   "nbconvert_exporter": "python",
   "pygments_lexer": "ipython3",
   "version": "3.11.4"
  }
 },
 "nbformat": 4,
 "nbformat_minor": 2
}
